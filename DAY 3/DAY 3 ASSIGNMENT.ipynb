{
 "cells": [
  {
   "cell_type": "code",
   "execution_count": 1,
   "metadata": {},
   "outputs": [
    {
     "name": "stdout",
     "output_type": "stream",
     "text": [
      "Enter the real part of complex1 =3\n",
      "Enter the imaginary part of complex1 =4\n",
      "Enter the real part of complex2 =2\n",
      "Enter the imaginary part of complex1 =5\n",
      "(1-1j)\n"
     ]
    }
   ],
   "source": [
    "#subtraction of 2 complex numbers\n",
    "\n",
    "x = float(input(\"Enter the real part of complex1 =\"))\n",
    "y = float(input(\"Enter the imaginary part of complex1 =\"))\n",
    "complex1 = complex(x, y)\n",
    "\n",
    "a = float(input(\"Enter the real part of complex2 =\"))\n",
    "b = float(input(\"Enter the imaginary part of complex1 =\"))\n",
    "complex2 = complex(a,b)\n",
    "\n",
    "print(complex1 - complex2)"
   ]
  },
  {
   "cell_type": "code",
   "execution_count": 2,
   "metadata": {},
   "outputs": [
    {
     "name": "stdout",
     "output_type": "stream",
     "text": [
      "Enter the number =555\n",
      "4.853703532229744\n"
     ]
    }
   ],
   "source": [
    "#forth root of a number\n",
    "\n",
    "x = float(input(\"Enter the number =\"))\n",
    "ans = x**0.25\n",
    "print (ans)"
   ]
  },
  {
   "cell_type": "code",
   "execution_count": 4,
   "metadata": {},
   "outputs": [
    {
     "name": "stdout",
     "output_type": "stream",
     "text": [
      "Enter the num1 =10\n",
      "Enter the num2 =20\n",
      "before swap\n",
      "10.0\n",
      "20.0\n",
      "after swaping using temporary var\n",
      "20.0\n",
      "10.0\n"
     ]
    }
   ],
   "source": [
    "# swaping 2 numbers using temporary variable\n",
    "\n",
    "a = float(input(\"Enter the num1 =\"))\n",
    "b = float(input(\"Enter the num2 =\"))\n",
    "print(\"before swap\")\n",
    "print(a)\n",
    "print(b)\n",
    "\n",
    "temp = a\n",
    "a = b\n",
    "b = temp\n",
    "print(\"after swaping using temporary var\")\n",
    "print(a)\n",
    "print(b)"
   ]
  },
  {
   "cell_type": "code",
   "execution_count": 5,
   "metadata": {},
   "outputs": [
    {
     "name": "stdout",
     "output_type": "stream",
     "text": [
      "Enter the num1 =10\n",
      "Enter the num2 =20\n",
      "before swap\n",
      "10.0\n",
      "20.0\n",
      "after swaping without using temporary variable\n",
      "20.0\n",
      "10.0\n"
     ]
    }
   ],
   "source": [
    "#swaping 2 numbers without using temporary variable\n",
    "\n",
    "a = float(input(\"Enter the num1 =\"))\n",
    "b = float(input(\"Enter the num2 =\"))\n",
    "print(\"before swap\")\n",
    "print(a)\n",
    "print(b)\n",
    "\n",
    "print(\"after swaping without using temporary variable\")\n",
    "a,b = b,a\n",
    "print(a)\n",
    "print(b)\n"
   ]
  },
  {
   "cell_type": "code",
   "execution_count": 6,
   "metadata": {},
   "outputs": [
    {
     "name": "stdout",
     "output_type": "stream",
     "text": [
      "Enter the temperature in Farenheit =96\n",
      "The temperature in celcius is = 35.55555555555556\n"
     ]
    }
   ],
   "source": [
    "# converting farenheit into celsius\n",
    "\n",
    "F = float(input(\"Enter the temperature in Farenheit =\"))\n",
    "C = (F-32)*(5/9)\n",
    "print(\"The temperature in celcius is =\",C)"
   ]
  },
  {
   "cell_type": "code",
   "execution_count": 11,
   "metadata": {},
   "outputs": [
    {
     "name": "stdout",
     "output_type": "stream",
     "text": [
      "<class 'int'>\n",
      "<class 'float'>\n",
      "<class 'bool'>\n",
      "<class 'str'>\n",
      "<class 'complex'>\n"
     ]
    }
   ],
   "source": [
    "# DEMONSTRATE all the variables in python using type function\n",
    "\n",
    "a = 2\n",
    "print(type(a))\n",
    "\n",
    "b = 2.5\n",
    "print(type(b))\n",
    "\n",
    "c = True\n",
    "print(type(c))\n",
    "\n",
    "d = \"hi\"\n",
    "print(type(d))\n",
    "\n",
    "e = 2+3j\n",
    "print(type(e))\n"
   ]
  },
  {
   "cell_type": "markdown",
   "metadata": {},
   "source": [
    "# steps to create and upload github assignments\n",
    "\n",
    "__CREATING REPOSITARY__\n",
    "\n",
    "go to github.com\n",
    "create github account\n",
    "click on new in repositary\n",
    "give name as \"LetsUpgrade AI/ML\"\n",
    "give description as Assignments and create the repositary\n",
    "\n",
    "__SUBMITTING ASSIGNMENT__\n",
    "\n",
    "upload the assignment in \"LetsUpgrade AI/ML\" github repositary by keeping the assignment in a folder of respective dates\n",
    "copy the link of the assignment and check wheather it is public or private.\n",
    "after the assignment is public \n",
    "paste the link in google form with appropriate details and submit it\n",
    "\n"
   ]
  },
  {
   "cell_type": "code",
   "execution_count": null,
   "metadata": {},
   "outputs": [],
   "source": []
  }
 ],
 "metadata": {
  "kernelspec": {
   "display_name": "Python 3",
   "language": "python",
   "name": "python3"
  },
  "language_info": {
   "codemirror_mode": {
    "name": "ipython",
    "version": 3
   },
   "file_extension": ".py",
   "mimetype": "text/x-python",
   "name": "python",
   "nbconvert_exporter": "python",
   "pygments_lexer": "ipython3",
   "version": "3.7.6"
  }
 },
 "nbformat": 4,
 "nbformat_minor": 4
}

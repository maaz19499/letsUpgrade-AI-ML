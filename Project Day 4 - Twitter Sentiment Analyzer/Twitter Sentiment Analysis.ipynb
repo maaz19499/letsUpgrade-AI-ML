{
 "cells": [
  {
   "cell_type": "code",
   "execution_count": 5,
   "metadata": {},
   "outputs": [],
   "source": [
    "import numpy as np\n",
    "import pandas as pd\n",
    "import tweepy\n",
    "import json\n",
    "from tweepy import OAuthHandler"
   ]
  },
  {
   "cell_type": "code",
   "execution_count": 6,
   "metadata": {},
   "outputs": [],
   "source": [
    "consumer_key = \"iZn1gECyAXTEf4tlotlTNVSSP\"\n",
    "consumer_secret = \"p58dEB9isznp8jGOBwvOYG9G6TDl0MPFZBzvvqHmQMhGEHo7rr\"\n",
    "access_token = \"993089461729849345-OPRXctoMPaSL3GWG1e61tUU9WPjypOo\"\n",
    "access_token_secret = \"cvUKaGv4ZfooIlF15ZASUtkNS5wsc3NjW8B7f5QBfejSY\""
   ]
  },
  {
   "cell_type": "code",
   "execution_count": 7,
   "metadata": {},
   "outputs": [],
   "source": [
    "auth = tweepy.OAuthHandler( consumer_key , consumer_secret )\n",
    "auth.set_access_token( access_token , access_token_secret )\n",
    "api = tweepy.API(auth)"
   ]
  },
  {
   "cell_type": "code",
   "execution_count": 37,
   "metadata": {},
   "outputs": [],
   "source": [
    "query = \"Donald Trump loss election\""
   ]
  },
  {
   "cell_type": "code",
   "execution_count": 38,
   "metadata": {},
   "outputs": [
    {
     "name": "stdout",
     "output_type": "stream",
     "text": [
      "Status(_api=<tweepy.api.API object at 0x00000269D4576788>, _json={'created_at': 'Thu Nov 19 16:16:50 +0000 2020', 'id': 1329458621734936576, 'id_str': '1329458621734936576', 'full_text': '@realDonaldTrump @BrianKempGA Trump, stewing over election loss, silent as virus surges @APNews\\nhttps://t.co/j1mFs3uFsX', 'truncated': False, 'display_text_range': [30, 119], 'entities': {'hashtags': [], 'symbols': [], 'user_mentions': [{'screen_name': 'realDonaldTrump', 'name': 'Donald J. Trump', 'id': 25073877, 'id_str': '25073877', 'indices': [0, 16]}, {'screen_name': 'BrianKempGA', 'name': 'Brian Kemp', 'id': 47437206, 'id_str': '47437206', 'indices': [17, 29]}, {'screen_name': 'APNews', 'name': 'AP News', 'id': 16744503, 'id_str': '16744503', 'indices': [88, 95]}], 'urls': [{'url': 'https://t.co/j1mFs3uFsX', 'expanded_url': 'https://apnews.com/article/election-2020-joe-biden-donald-trump-pandemics-public-health-f0f12ecc43fdd2df652b90b7a3e1b5d4', 'display_url': 'apnews.com/article/electi…', 'indices': [96, 119]}]}, 'metadata': {'iso_language_code': 'en', 'result_type': 'recent'}, 'source': '<a href=\"http://twitter.com/download/android\" rel=\"nofollow\">Twitter for Android</a>', 'in_reply_to_status_id': 1329420741553643522, 'in_reply_to_status_id_str': '1329420741553643522', 'in_reply_to_user_id': 25073877, 'in_reply_to_user_id_str': '25073877', 'in_reply_to_screen_name': 'realDonaldTrump', 'user': {'id': 756707037078233088, 'id_str': '756707037078233088', 'name': 'Thomas E. Brown', 'screen_name': 'ThomasEBrown3', 'location': '', 'description': '', 'url': 'https://t.co/CgDDX9aZL2', 'entities': {'url': {'urls': [{'url': 'https://t.co/CgDDX9aZL2', 'expanded_url': 'https://nccs.net/blogs/our-ageless-constitution/do-we-have-a-living-constitution', 'display_url': 'nccs.net/blogs/our-agel…', 'indices': [0, 23]}]}, 'description': {'urls': []}}, 'protected': False, 'followers_count': 243, 'friends_count': 2, 'listed_count': 5, 'created_at': 'Sat Jul 23 04:26:31 +0000 2016', 'favourites_count': 8191, 'utc_offset': None, 'time_zone': None, 'geo_enabled': True, 'verified': False, 'statuses_count': 100324, 'lang': None, 'contributors_enabled': False, 'is_translator': False, 'is_translation_enabled': False, 'profile_background_color': 'F5F8FA', 'profile_background_image_url': None, 'profile_background_image_url_https': None, 'profile_background_tile': False, 'profile_image_url': 'http://pbs.twimg.com/profile_images/854093200306434049/-rKmO9zQ_normal.jpg', 'profile_image_url_https': 'https://pbs.twimg.com/profile_images/854093200306434049/-rKmO9zQ_normal.jpg', 'profile_banner_url': 'https://pbs.twimg.com/profile_banners/756707037078233088/1492466708', 'profile_link_color': '1DA1F2', 'profile_sidebar_border_color': 'C0DEED', 'profile_sidebar_fill_color': 'DDEEF6', 'profile_text_color': '333333', 'profile_use_background_image': True, 'has_extended_profile': False, 'default_profile': True, 'default_profile_image': False, 'following': False, 'follow_request_sent': False, 'notifications': False, 'translator_type': 'none'}, 'geo': None, 'coordinates': None, 'place': None, 'contributors': None, 'is_quote_status': False, 'retweet_count': 0, 'favorite_count': 1, 'favorited': False, 'retweeted': False, 'possibly_sensitive': False, 'lang': 'en'}, created_at=datetime.datetime(2020, 11, 19, 16, 16, 50), id=1329458621734936576, id_str='1329458621734936576', full_text='@realDonaldTrump @BrianKempGA Trump, stewing over election loss, silent as virus surges @APNews\\nhttps://t.co/j1mFs3uFsX', truncated=False, display_text_range=[30, 119], entities={'hashtags': [], 'symbols': [], 'user_mentions': [{'screen_name': 'realDonaldTrump', 'name': 'Donald J. Trump', 'id': 25073877, 'id_str': '25073877', 'indices': [0, 16]}, {'screen_name': 'BrianKempGA', 'name': 'Brian Kemp', 'id': 47437206, 'id_str': '47437206', 'indices': [17, 29]}, {'screen_name': 'APNews', 'name': 'AP News', 'id': 16744503, 'id_str': '16744503', 'indices': [88, 95]}], 'urls': [{'url': 'https://t.co/j1mFs3uFsX', 'expanded_url': 'https://apnews.com/article/election-2020-joe-biden-donald-trump-pandemics-public-health-f0f12ecc43fdd2df652b90b7a3e1b5d4', 'display_url': 'apnews.com/article/electi…', 'indices': [96, 119]}]}, metadata={'iso_language_code': 'en', 'result_type': 'recent'}, source='Twitter for Android', source_url='http://twitter.com/download/android', in_reply_to_status_id=1329420741553643522, in_reply_to_status_id_str='1329420741553643522', in_reply_to_user_id=25073877, in_reply_to_user_id_str='25073877', in_reply_to_screen_name='realDonaldTrump', author=User(_api=<tweepy.api.API object at 0x00000269D4576788>, _json={'id': 756707037078233088, 'id_str': '756707037078233088', 'name': 'Thomas E. Brown', 'screen_name': 'ThomasEBrown3', 'location': '', 'description': '', 'url': 'https://t.co/CgDDX9aZL2', 'entities': {'url': {'urls': [{'url': 'https://t.co/CgDDX9aZL2', 'expanded_url': 'https://nccs.net/blogs/our-ageless-constitution/do-we-have-a-living-constitution', 'display_url': 'nccs.net/blogs/our-agel…', 'indices': [0, 23]}]}, 'description': {'urls': []}}, 'protected': False, 'followers_count': 243, 'friends_count': 2, 'listed_count': 5, 'created_at': 'Sat Jul 23 04:26:31 +0000 2016', 'favourites_count': 8191, 'utc_offset': None, 'time_zone': None, 'geo_enabled': True, 'verified': False, 'statuses_count': 100324, 'lang': None, 'contributors_enabled': False, 'is_translator': False, 'is_translation_enabled': False, 'profile_background_color': 'F5F8FA', 'profile_background_image_url': None, 'profile_background_image_url_https': None, 'profile_background_tile': False, 'profile_image_url': 'http://pbs.twimg.com/profile_images/854093200306434049/-rKmO9zQ_normal.jpg', 'profile_image_url_https': 'https://pbs.twimg.com/profile_images/854093200306434049/-rKmO9zQ_normal.jpg', 'profile_banner_url': 'https://pbs.twimg.com/profile_banners/756707037078233088/1492466708', 'profile_link_color': '1DA1F2', 'profile_sidebar_border_color': 'C0DEED', 'profile_sidebar_fill_color': 'DDEEF6', 'profile_text_color': '333333', 'profile_use_background_image': True, 'has_extended_profile': False, 'default_profile': True, 'default_profile_image': False, 'following': False, 'follow_request_sent': False, 'notifications': False, 'translator_type': 'none'}, id=756707037078233088, id_str='756707037078233088', name='Thomas E. Brown', screen_name='ThomasEBrown3', location='', description='', url='https://t.co/CgDDX9aZL2', entities={'url': {'urls': [{'url': 'https://t.co/CgDDX9aZL2', 'expanded_url': 'https://nccs.net/blogs/our-ageless-constitution/do-we-have-a-living-constitution', 'display_url': 'nccs.net/blogs/our-agel…', 'indices': [0, 23]}]}, 'description': {'urls': []}}, protected=False, followers_count=243, friends_count=2, listed_count=5, created_at=datetime.datetime(2016, 7, 23, 4, 26, 31), favourites_count=8191, utc_offset=None, time_zone=None, geo_enabled=True, verified=False, statuses_count=100324, lang=None, contributors_enabled=False, is_translator=False, is_translation_enabled=False, profile_background_color='F5F8FA', profile_background_image_url=None, profile_background_image_url_https=None, profile_background_tile=False, profile_image_url='http://pbs.twimg.com/profile_images/854093200306434049/-rKmO9zQ_normal.jpg', profile_image_url_https='https://pbs.twimg.com/profile_images/854093200306434049/-rKmO9zQ_normal.jpg', profile_banner_url='https://pbs.twimg.com/profile_banners/756707037078233088/1492466708', profile_link_color='1DA1F2', profile_sidebar_border_color='C0DEED', profile_sidebar_fill_color='DDEEF6', profile_text_color='333333', profile_use_background_image=True, has_extended_profile=False, default_profile=True, default_profile_image=False, following=False, follow_request_sent=False, notifications=False, translator_type='none'), user=User(_api=<tweepy.api.API object at 0x00000269D4576788>, _json={'id': 756707037078233088, 'id_str': '756707037078233088', 'name': 'Thomas E. Brown', 'screen_name': 'ThomasEBrown3', 'location': '', 'description': '', 'url': 'https://t.co/CgDDX9aZL2', 'entities': {'url': {'urls': [{'url': 'https://t.co/CgDDX9aZL2', 'expanded_url': 'https://nccs.net/blogs/our-ageless-constitution/do-we-have-a-living-constitution', 'display_url': 'nccs.net/blogs/our-agel…', 'indices': [0, 23]}]}, 'description': {'urls': []}}, 'protected': False, 'followers_count': 243, 'friends_count': 2, 'listed_count': 5, 'created_at': 'Sat Jul 23 04:26:31 +0000 2016', 'favourites_count': 8191, 'utc_offset': None, 'time_zone': None, 'geo_enabled': True, 'verified': False, 'statuses_count': 100324, 'lang': None, 'contributors_enabled': False, 'is_translator': False, 'is_translation_enabled': False, 'profile_background_color': 'F5F8FA', 'profile_background_image_url': None, 'profile_background_image_url_https': None, 'profile_background_tile': False, 'profile_image_url': 'http://pbs.twimg.com/profile_images/854093200306434049/-rKmO9zQ_normal.jpg', 'profile_image_url_https': 'https://pbs.twimg.com/profile_images/854093200306434049/-rKmO9zQ_normal.jpg', 'profile_banner_url': 'https://pbs.twimg.com/profile_banners/756707037078233088/1492466708', 'profile_link_color': '1DA1F2', 'profile_sidebar_border_color': 'C0DEED', 'profile_sidebar_fill_color': 'DDEEF6', 'profile_text_color': '333333', 'profile_use_background_image': True, 'has_extended_profile': False, 'default_profile': True, 'default_profile_image': False, 'following': False, 'follow_request_sent': False, 'notifications': False, 'translator_type': 'none'}, id=756707037078233088, id_str='756707037078233088', name='Thomas E. Brown', screen_name='ThomasEBrown3', location='', description='', url='https://t.co/CgDDX9aZL2', entities={'url': {'urls': [{'url': 'https://t.co/CgDDX9aZL2', 'expanded_url': 'https://nccs.net/blogs/our-ageless-constitution/do-we-have-a-living-constitution', 'display_url': 'nccs.net/blogs/our-agel…', 'indices': [0, 23]}]}, 'description': {'urls': []}}, protected=False, followers_count=243, friends_count=2, listed_count=5, created_at=datetime.datetime(2016, 7, 23, 4, 26, 31), favourites_count=8191, utc_offset=None, time_zone=None, geo_enabled=True, verified=False, statuses_count=100324, lang=None, contributors_enabled=False, is_translator=False, is_translation_enabled=False, profile_background_color='F5F8FA', profile_background_image_url=None, profile_background_image_url_https=None, profile_background_tile=False, profile_image_url='http://pbs.twimg.com/profile_images/854093200306434049/-rKmO9zQ_normal.jpg', profile_image_url_https='https://pbs.twimg.com/profile_images/854093200306434049/-rKmO9zQ_normal.jpg', profile_banner_url='https://pbs.twimg.com/profile_banners/756707037078233088/1492466708', profile_link_color='1DA1F2', profile_sidebar_border_color='C0DEED', profile_sidebar_fill_color='DDEEF6', profile_text_color='333333', profile_use_background_image=True, has_extended_profile=False, default_profile=True, default_profile_image=False, following=False, follow_request_sent=False, notifications=False, translator_type='none'), geo=None, coordinates=None, place=None, contributors=None, is_quote_status=False, retweet_count=0, favorite_count=1, favorited=False, retweeted=False, possibly_sensitive=False, lang='en') \n",
      "\n",
      ".....................................\n",
      "\n",
      "Status(_api=<tweepy.api.API object at 0x00000269D4576788>, _json={'created_at': 'Thu Nov 19 16:12:15 +0000 2020', 'id': 1329457471329611779, 'id_str': '1329457471329611779', 'full_text': \"@TVietor08 @SecPompeo Maybe someone should tell @realDonaldTrump that he's now #2 behind @SecPompeo .  Huge LOSS for Donald Trump, right on the heels of a huge election defeat.  WEAK!!  SAD!!\", 'truncated': False, 'display_text_range': [22, 191], 'entities': {'hashtags': [], 'symbols': [], 'user_mentions': [{'screen_name': 'TVietor08', 'name': 'Tommy Vietor', 'id': 155784594, 'id_str': '155784594', 'indices': [0, 10]}, {'screen_name': 'SecPompeo', 'name': 'Secretary Pompeo', 'id': 988573326376427520, 'id_str': '988573326376427520', 'indices': [11, 21]}, {'screen_name': 'realDonaldTrump', 'name': 'Donald J. Trump', 'id': 25073877, 'id_str': '25073877', 'indices': [48, 64]}, {'screen_name': 'SecPompeo', 'name': 'Secretary Pompeo', 'id': 988573326376427520, 'id_str': '988573326376427520', 'indices': [89, 99]}], 'urls': []}, 'metadata': {'iso_language_code': 'en', 'result_type': 'recent'}, 'source': '<a href=\"https://mobile.twitter.com\" rel=\"nofollow\">Twitter Web App</a>', 'in_reply_to_status_id': 1329454123360661505, 'in_reply_to_status_id_str': '1329454123360661505', 'in_reply_to_user_id': 155784594, 'in_reply_to_user_id_str': '155784594', 'in_reply_to_screen_name': 'TVietor08', 'user': {'id': 1170142561756954629, 'id_str': '1170142561756954629', 'name': 'BrickmanInGA', 'screen_name': 'BrickmanInGA', 'location': '', 'description': '“The Party told you to reject all evidence of your eyes and ears. It was their final, most essential command.” - Orwell, “1984.”', 'url': None, 'entities': {'description': {'urls': []}}, 'protected': False, 'followers_count': 519, 'friends_count': 844, 'listed_count': 2, 'created_at': 'Sat Sep 07 01:12:09 +0000 2019', 'favourites_count': 83854, 'utc_offset': None, 'time_zone': None, 'geo_enabled': False, 'verified': False, 'statuses_count': 24799, 'lang': None, 'contributors_enabled': False, 'is_translator': False, 'is_translation_enabled': False, 'profile_background_color': 'F5F8FA', 'profile_background_image_url': None, 'profile_background_image_url_https': None, 'profile_background_tile': False, 'profile_image_url': 'http://pbs.twimg.com/profile_images/1225521243048349697/1Hq-WXnZ_normal.jpg', 'profile_image_url_https': 'https://pbs.twimg.com/profile_images/1225521243048349697/1Hq-WXnZ_normal.jpg', 'profile_banner_url': 'https://pbs.twimg.com/profile_banners/1170142561756954629/1581023258', 'profile_link_color': '1DA1F2', 'profile_sidebar_border_color': 'C0DEED', 'profile_sidebar_fill_color': 'DDEEF6', 'profile_text_color': '333333', 'profile_use_background_image': True, 'has_extended_profile': False, 'default_profile': True, 'default_profile_image': False, 'following': False, 'follow_request_sent': False, 'notifications': False, 'translator_type': 'none'}, 'geo': None, 'coordinates': None, 'place': None, 'contributors': None, 'is_quote_status': False, 'retweet_count': 0, 'favorite_count': 0, 'favorited': False, 'retweeted': False, 'lang': 'en'}, created_at=datetime.datetime(2020, 11, 19, 16, 12, 15), id=1329457471329611779, id_str='1329457471329611779', full_text=\"@TVietor08 @SecPompeo Maybe someone should tell @realDonaldTrump that he's now #2 behind @SecPompeo .  Huge LOSS for Donald Trump, right on the heels of a huge election defeat.  WEAK!!  SAD!!\", truncated=False, display_text_range=[22, 191], entities={'hashtags': [], 'symbols': [], 'user_mentions': [{'screen_name': 'TVietor08', 'name': 'Tommy Vietor', 'id': 155784594, 'id_str': '155784594', 'indices': [0, 10]}, {'screen_name': 'SecPompeo', 'name': 'Secretary Pompeo', 'id': 988573326376427520, 'id_str': '988573326376427520', 'indices': [11, 21]}, {'screen_name': 'realDonaldTrump', 'name': 'Donald J. Trump', 'id': 25073877, 'id_str': '25073877', 'indices': [48, 64]}, {'screen_name': 'SecPompeo', 'name': 'Secretary Pompeo', 'id': 988573326376427520, 'id_str': '988573326376427520', 'indices': [89, 99]}], 'urls': []}, metadata={'iso_language_code': 'en', 'result_type': 'recent'}, source='Twitter Web App', source_url='https://mobile.twitter.com', in_reply_to_status_id=1329454123360661505, in_reply_to_status_id_str='1329454123360661505', in_reply_to_user_id=155784594, in_reply_to_user_id_str='155784594', in_reply_to_screen_name='TVietor08', author=User(_api=<tweepy.api.API object at 0x00000269D4576788>, _json={'id': 1170142561756954629, 'id_str': '1170142561756954629', 'name': 'BrickmanInGA', 'screen_name': 'BrickmanInGA', 'location': '', 'description': '“The Party told you to reject all evidence of your eyes and ears. It was their final, most essential command.” - Orwell, “1984.”', 'url': None, 'entities': {'description': {'urls': []}}, 'protected': False, 'followers_count': 519, 'friends_count': 844, 'listed_count': 2, 'created_at': 'Sat Sep 07 01:12:09 +0000 2019', 'favourites_count': 83854, 'utc_offset': None, 'time_zone': None, 'geo_enabled': False, 'verified': False, 'statuses_count': 24799, 'lang': None, 'contributors_enabled': False, 'is_translator': False, 'is_translation_enabled': False, 'profile_background_color': 'F5F8FA', 'profile_background_image_url': None, 'profile_background_image_url_https': None, 'profile_background_tile': False, 'profile_image_url': 'http://pbs.twimg.com/profile_images/1225521243048349697/1Hq-WXnZ_normal.jpg', 'profile_image_url_https': 'https://pbs.twimg.com/profile_images/1225521243048349697/1Hq-WXnZ_normal.jpg', 'profile_banner_url': 'https://pbs.twimg.com/profile_banners/1170142561756954629/1581023258', 'profile_link_color': '1DA1F2', 'profile_sidebar_border_color': 'C0DEED', 'profile_sidebar_fill_color': 'DDEEF6', 'profile_text_color': '333333', 'profile_use_background_image': True, 'has_extended_profile': False, 'default_profile': True, 'default_profile_image': False, 'following': False, 'follow_request_sent': False, 'notifications': False, 'translator_type': 'none'}, id=1170142561756954629, id_str='1170142561756954629', name='BrickmanInGA', screen_name='BrickmanInGA', location='', description='“The Party told you to reject all evidence of your eyes and ears. It was their final, most essential command.” - Orwell, “1984.”', url=None, entities={'description': {'urls': []}}, protected=False, followers_count=519, friends_count=844, listed_count=2, created_at=datetime.datetime(2019, 9, 7, 1, 12, 9), favourites_count=83854, utc_offset=None, time_zone=None, geo_enabled=False, verified=False, statuses_count=24799, lang=None, contributors_enabled=False, is_translator=False, is_translation_enabled=False, profile_background_color='F5F8FA', profile_background_image_url=None, profile_background_image_url_https=None, profile_background_tile=False, profile_image_url='http://pbs.twimg.com/profile_images/1225521243048349697/1Hq-WXnZ_normal.jpg', profile_image_url_https='https://pbs.twimg.com/profile_images/1225521243048349697/1Hq-WXnZ_normal.jpg', profile_banner_url='https://pbs.twimg.com/profile_banners/1170142561756954629/1581023258', profile_link_color='1DA1F2', profile_sidebar_border_color='C0DEED', profile_sidebar_fill_color='DDEEF6', profile_text_color='333333', profile_use_background_image=True, has_extended_profile=False, default_profile=True, default_profile_image=False, following=False, follow_request_sent=False, notifications=False, translator_type='none'), user=User(_api=<tweepy.api.API object at 0x00000269D4576788>, _json={'id': 1170142561756954629, 'id_str': '1170142561756954629', 'name': 'BrickmanInGA', 'screen_name': 'BrickmanInGA', 'location': '', 'description': '“The Party told you to reject all evidence of your eyes and ears. It was their final, most essential command.” - Orwell, “1984.”', 'url': None, 'entities': {'description': {'urls': []}}, 'protected': False, 'followers_count': 519, 'friends_count': 844, 'listed_count': 2, 'created_at': 'Sat Sep 07 01:12:09 +0000 2019', 'favourites_count': 83854, 'utc_offset': None, 'time_zone': None, 'geo_enabled': False, 'verified': False, 'statuses_count': 24799, 'lang': None, 'contributors_enabled': False, 'is_translator': False, 'is_translation_enabled': False, 'profile_background_color': 'F5F8FA', 'profile_background_image_url': None, 'profile_background_image_url_https': None, 'profile_background_tile': False, 'profile_image_url': 'http://pbs.twimg.com/profile_images/1225521243048349697/1Hq-WXnZ_normal.jpg', 'profile_image_url_https': 'https://pbs.twimg.com/profile_images/1225521243048349697/1Hq-WXnZ_normal.jpg', 'profile_banner_url': 'https://pbs.twimg.com/profile_banners/1170142561756954629/1581023258', 'profile_link_color': '1DA1F2', 'profile_sidebar_border_color': 'C0DEED', 'profile_sidebar_fill_color': 'DDEEF6', 'profile_text_color': '333333', 'profile_use_background_image': True, 'has_extended_profile': False, 'default_profile': True, 'default_profile_image': False, 'following': False, 'follow_request_sent': False, 'notifications': False, 'translator_type': 'none'}, id=1170142561756954629, id_str='1170142561756954629', name='BrickmanInGA', screen_name='BrickmanInGA', location='', description='“The Party told you to reject all evidence of your eyes and ears. It was their final, most essential command.” - Orwell, “1984.”', url=None, entities={'description': {'urls': []}}, protected=False, followers_count=519, friends_count=844, listed_count=2, created_at=datetime.datetime(2019, 9, 7, 1, 12, 9), favourites_count=83854, utc_offset=None, time_zone=None, geo_enabled=False, verified=False, statuses_count=24799, lang=None, contributors_enabled=False, is_translator=False, is_translation_enabled=False, profile_background_color='F5F8FA', profile_background_image_url=None, profile_background_image_url_https=None, profile_background_tile=False, profile_image_url='http://pbs.twimg.com/profile_images/1225521243048349697/1Hq-WXnZ_normal.jpg', profile_image_url_https='https://pbs.twimg.com/profile_images/1225521243048349697/1Hq-WXnZ_normal.jpg', profile_banner_url='https://pbs.twimg.com/profile_banners/1170142561756954629/1581023258', profile_link_color='1DA1F2', profile_sidebar_border_color='C0DEED', profile_sidebar_fill_color='DDEEF6', profile_text_color='333333', profile_use_background_image=True, has_extended_profile=False, default_profile=True, default_profile_image=False, following=False, follow_request_sent=False, notifications=False, translator_type='none'), geo=None, coordinates=None, place=None, contributors=None, is_quote_status=False, retweet_count=0, favorite_count=0, favorited=False, retweeted=False, lang='en') \n",
      "\n",
      ".....................................\n",
      "\n",
      "Status(_api=<tweepy.api.API object at 0x00000269D4576788>, _json={'created_at': 'Thu Nov 19 16:11:51 +0000 2020', 'id': 1329457369076666368, 'id_str': '1329457369076666368', 'full_text': 'Donald Trump’s infantile refusal to accept his election loss threatens the COVID-19 vaccine rollout. The sooner that loser is out of public office, the better. https://t.co/IILXhuTgfn', 'truncated': False, 'display_text_range': [0, 183], 'entities': {'hashtags': [], 'symbols': [], 'user_mentions': [], 'urls': [{'url': 'https://t.co/IILXhuTgfn', 'expanded_url': 'https://www.cnn.com/2020/11/17/politics/election-2020-transition-coronavirus-donald-trump-joe-biden/index.html', 'display_url': 'cnn.com/2020/11/17/pol…', 'indices': [160, 183]}]}, 'metadata': {'iso_language_code': 'en', 'result_type': 'recent'}, 'source': '<a href=\"https://mobile.twitter.com\" rel=\"nofollow\">Twitter Web App</a>', 'in_reply_to_status_id': None, 'in_reply_to_status_id_str': None, 'in_reply_to_user_id': None, 'in_reply_to_user_id_str': None, 'in_reply_to_screen_name': None, 'user': {'id': 68172913, 'id_str': '68172913', 'name': 'Michael Okuda', 'screen_name': 'MikeOkuda', 'location': 'Los Angeles', 'description': 'Graphic designer. Science fan.  Space geek. Tweets, opinions, and politics my own. Evidence matters. Resistance is not futile.', 'url': 'https://t.co/XwmcP49onA', 'entities': {'url': {'urls': [{'url': 'https://t.co/XwmcP49onA', 'expanded_url': 'https://www.facebook.com/Michael.Denise.Okuda', 'display_url': 'facebook.com/Michael.Denise…', 'indices': [0, 23]}]}, 'description': {'urls': []}}, 'protected': False, 'followers_count': 32686, 'friends_count': 2870, 'listed_count': 814, 'created_at': 'Sun Aug 23 15:59:33 +0000 2009', 'favourites_count': 82447, 'utc_offset': None, 'time_zone': None, 'geo_enabled': False, 'verified': False, 'statuses_count': 243196, 'lang': None, 'contributors_enabled': False, 'is_translator': False, 'is_translation_enabled': False, 'profile_background_color': 'C0DEED', 'profile_background_image_url': 'http://abs.twimg.com/images/themes/theme1/bg.png', 'profile_background_image_url_https': 'https://abs.twimg.com/images/themes/theme1/bg.png', 'profile_background_tile': False, 'profile_image_url': 'http://pbs.twimg.com/profile_images/1314690488339820544/-dVmcsW-_normal.jpg', 'profile_image_url_https': 'https://pbs.twimg.com/profile_images/1314690488339820544/-dVmcsW-_normal.jpg', 'profile_banner_url': 'https://pbs.twimg.com/profile_banners/68172913/1602041737', 'profile_link_color': '1DA1F2', 'profile_sidebar_border_color': 'C0DEED', 'profile_sidebar_fill_color': 'DDEEF6', 'profile_text_color': '333333', 'profile_use_background_image': True, 'has_extended_profile': False, 'default_profile': True, 'default_profile_image': False, 'following': False, 'follow_request_sent': False, 'notifications': False, 'translator_type': 'none'}, 'geo': None, 'coordinates': None, 'place': None, 'contributors': None, 'is_quote_status': False, 'retweet_count': 1, 'favorite_count': 6, 'favorited': False, 'retweeted': False, 'possibly_sensitive': False, 'lang': 'en'}, created_at=datetime.datetime(2020, 11, 19, 16, 11, 51), id=1329457369076666368, id_str='1329457369076666368', full_text='Donald Trump’s infantile refusal to accept his election loss threatens the COVID-19 vaccine rollout. The sooner that loser is out of public office, the better. https://t.co/IILXhuTgfn', truncated=False, display_text_range=[0, 183], entities={'hashtags': [], 'symbols': [], 'user_mentions': [], 'urls': [{'url': 'https://t.co/IILXhuTgfn', 'expanded_url': 'https://www.cnn.com/2020/11/17/politics/election-2020-transition-coronavirus-donald-trump-joe-biden/index.html', 'display_url': 'cnn.com/2020/11/17/pol…', 'indices': [160, 183]}]}, metadata={'iso_language_code': 'en', 'result_type': 'recent'}, source='Twitter Web App', source_url='https://mobile.twitter.com', in_reply_to_status_id=None, in_reply_to_status_id_str=None, in_reply_to_user_id=None, in_reply_to_user_id_str=None, in_reply_to_screen_name=None, author=User(_api=<tweepy.api.API object at 0x00000269D4576788>, _json={'id': 68172913, 'id_str': '68172913', 'name': 'Michael Okuda', 'screen_name': 'MikeOkuda', 'location': 'Los Angeles', 'description': 'Graphic designer. Science fan.  Space geek. Tweets, opinions, and politics my own. Evidence matters. Resistance is not futile.', 'url': 'https://t.co/XwmcP49onA', 'entities': {'url': {'urls': [{'url': 'https://t.co/XwmcP49onA', 'expanded_url': 'https://www.facebook.com/Michael.Denise.Okuda', 'display_url': 'facebook.com/Michael.Denise…', 'indices': [0, 23]}]}, 'description': {'urls': []}}, 'protected': False, 'followers_count': 32686, 'friends_count': 2870, 'listed_count': 814, 'created_at': 'Sun Aug 23 15:59:33 +0000 2009', 'favourites_count': 82447, 'utc_offset': None, 'time_zone': None, 'geo_enabled': False, 'verified': False, 'statuses_count': 243196, 'lang': None, 'contributors_enabled': False, 'is_translator': False, 'is_translation_enabled': False, 'profile_background_color': 'C0DEED', 'profile_background_image_url': 'http://abs.twimg.com/images/themes/theme1/bg.png', 'profile_background_image_url_https': 'https://abs.twimg.com/images/themes/theme1/bg.png', 'profile_background_tile': False, 'profile_image_url': 'http://pbs.twimg.com/profile_images/1314690488339820544/-dVmcsW-_normal.jpg', 'profile_image_url_https': 'https://pbs.twimg.com/profile_images/1314690488339820544/-dVmcsW-_normal.jpg', 'profile_banner_url': 'https://pbs.twimg.com/profile_banners/68172913/1602041737', 'profile_link_color': '1DA1F2', 'profile_sidebar_border_color': 'C0DEED', 'profile_sidebar_fill_color': 'DDEEF6', 'profile_text_color': '333333', 'profile_use_background_image': True, 'has_extended_profile': False, 'default_profile': True, 'default_profile_image': False, 'following': False, 'follow_request_sent': False, 'notifications': False, 'translator_type': 'none'}, id=68172913, id_str='68172913', name='Michael Okuda', screen_name='MikeOkuda', location='Los Angeles', description='Graphic designer. Science fan.  Space geek. Tweets, opinions, and politics my own. Evidence matters. Resistance is not futile.', url='https://t.co/XwmcP49onA', entities={'url': {'urls': [{'url': 'https://t.co/XwmcP49onA', 'expanded_url': 'https://www.facebook.com/Michael.Denise.Okuda', 'display_url': 'facebook.com/Michael.Denise…', 'indices': [0, 23]}]}, 'description': {'urls': []}}, protected=False, followers_count=32686, friends_count=2870, listed_count=814, created_at=datetime.datetime(2009, 8, 23, 15, 59, 33), favourites_count=82447, utc_offset=None, time_zone=None, geo_enabled=False, verified=False, statuses_count=243196, lang=None, contributors_enabled=False, is_translator=False, is_translation_enabled=False, profile_background_color='C0DEED', profile_background_image_url='http://abs.twimg.com/images/themes/theme1/bg.png', profile_background_image_url_https='https://abs.twimg.com/images/themes/theme1/bg.png', profile_background_tile=False, profile_image_url='http://pbs.twimg.com/profile_images/1314690488339820544/-dVmcsW-_normal.jpg', profile_image_url_https='https://pbs.twimg.com/profile_images/1314690488339820544/-dVmcsW-_normal.jpg', profile_banner_url='https://pbs.twimg.com/profile_banners/68172913/1602041737', profile_link_color='1DA1F2', profile_sidebar_border_color='C0DEED', profile_sidebar_fill_color='DDEEF6', profile_text_color='333333', profile_use_background_image=True, has_extended_profile=False, default_profile=True, default_profile_image=False, following=False, follow_request_sent=False, notifications=False, translator_type='none'), user=User(_api=<tweepy.api.API object at 0x00000269D4576788>, _json={'id': 68172913, 'id_str': '68172913', 'name': 'Michael Okuda', 'screen_name': 'MikeOkuda', 'location': 'Los Angeles', 'description': 'Graphic designer. Science fan.  Space geek. Tweets, opinions, and politics my own. Evidence matters. Resistance is not futile.', 'url': 'https://t.co/XwmcP49onA', 'entities': {'url': {'urls': [{'url': 'https://t.co/XwmcP49onA', 'expanded_url': 'https://www.facebook.com/Michael.Denise.Okuda', 'display_url': 'facebook.com/Michael.Denise…', 'indices': [0, 23]}]}, 'description': {'urls': []}}, 'protected': False, 'followers_count': 32686, 'friends_count': 2870, 'listed_count': 814, 'created_at': 'Sun Aug 23 15:59:33 +0000 2009', 'favourites_count': 82447, 'utc_offset': None, 'time_zone': None, 'geo_enabled': False, 'verified': False, 'statuses_count': 243196, 'lang': None, 'contributors_enabled': False, 'is_translator': False, 'is_translation_enabled': False, 'profile_background_color': 'C0DEED', 'profile_background_image_url': 'http://abs.twimg.com/images/themes/theme1/bg.png', 'profile_background_image_url_https': 'https://abs.twimg.com/images/themes/theme1/bg.png', 'profile_background_tile': False, 'profile_image_url': 'http://pbs.twimg.com/profile_images/1314690488339820544/-dVmcsW-_normal.jpg', 'profile_image_url_https': 'https://pbs.twimg.com/profile_images/1314690488339820544/-dVmcsW-_normal.jpg', 'profile_banner_url': 'https://pbs.twimg.com/profile_banners/68172913/1602041737', 'profile_link_color': '1DA1F2', 'profile_sidebar_border_color': 'C0DEED', 'profile_sidebar_fill_color': 'DDEEF6', 'profile_text_color': '333333', 'profile_use_background_image': True, 'has_extended_profile': False, 'default_profile': True, 'default_profile_image': False, 'following': False, 'follow_request_sent': False, 'notifications': False, 'translator_type': 'none'}, id=68172913, id_str='68172913', name='Michael Okuda', screen_name='MikeOkuda', location='Los Angeles', description='Graphic designer. Science fan.  Space geek. Tweets, opinions, and politics my own. Evidence matters. Resistance is not futile.', url='https://t.co/XwmcP49onA', entities={'url': {'urls': [{'url': 'https://t.co/XwmcP49onA', 'expanded_url': 'https://www.facebook.com/Michael.Denise.Okuda', 'display_url': 'facebook.com/Michael.Denise…', 'indices': [0, 23]}]}, 'description': {'urls': []}}, protected=False, followers_count=32686, friends_count=2870, listed_count=814, created_at=datetime.datetime(2009, 8, 23, 15, 59, 33), favourites_count=82447, utc_offset=None, time_zone=None, geo_enabled=False, verified=False, statuses_count=243196, lang=None, contributors_enabled=False, is_translator=False, is_translation_enabled=False, profile_background_color='C0DEED', profile_background_image_url='http://abs.twimg.com/images/themes/theme1/bg.png', profile_background_image_url_https='https://abs.twimg.com/images/themes/theme1/bg.png', profile_background_tile=False, profile_image_url='http://pbs.twimg.com/profile_images/1314690488339820544/-dVmcsW-_normal.jpg', profile_image_url_https='https://pbs.twimg.com/profile_images/1314690488339820544/-dVmcsW-_normal.jpg', profile_banner_url='https://pbs.twimg.com/profile_banners/68172913/1602041737', profile_link_color='1DA1F2', profile_sidebar_border_color='C0DEED', profile_sidebar_fill_color='DDEEF6', profile_text_color='333333', profile_use_background_image=True, has_extended_profile=False, default_profile=True, default_profile_image=False, following=False, follow_request_sent=False, notifications=False, translator_type='none'), geo=None, coordinates=None, place=None, contributors=None, is_quote_status=False, retweet_count=1, favorite_count=6, favorited=False, retweeted=False, possibly_sensitive=False, lang='en') \n",
      "\n",
      ".....................................\n",
      "\n",
      "Status(_api=<tweepy.api.API object at 0x00000269D4576788>, _json={'created_at': 'Thu Nov 19 16:04:47 +0000 2020', 'id': 1329455590578466818, 'id_str': '1329455590578466818', 'full_text': \"@realDonaldTrump Donald J Trump, we've heard from you niece on CNN. She has given us great knowledge about you. You need to respect the people, and concede your loss. All you are doing is delaying  the transition, and hurting the people of the u.s. I was a Republican, but before the election\", 'truncated': False, 'display_text_range': [17, 292], 'entities': {'hashtags': [], 'symbols': [], 'user_mentions': [{'screen_name': 'realDonaldTrump', 'name': 'Donald J. Trump', 'id': 25073877, 'id_str': '25073877', 'indices': [0, 16]}], 'urls': []}, 'metadata': {'iso_language_code': 'en', 'result_type': 'recent'}, 'source': '<a href=\"https://mobile.twitter.com\" rel=\"nofollow\">Twitter Web App</a>', 'in_reply_to_status_id': 1329404785083232256, 'in_reply_to_status_id_str': '1329404785083232256', 'in_reply_to_user_id': 25073877, 'in_reply_to_user_id_str': '25073877', 'in_reply_to_screen_name': 'realDonaldTrump', 'user': {'id': 3033386957, 'id_str': '3033386957', 'name': 'Brian L Brown', 'screen_name': 'brianbllyj1258', 'location': '', 'description': '', 'url': None, 'entities': {'description': {'urls': []}}, 'protected': False, 'followers_count': 8, 'friends_count': 46, 'listed_count': 0, 'created_at': 'Thu Feb 12 20:34:36 +0000 2015', 'favourites_count': 21, 'utc_offset': None, 'time_zone': None, 'geo_enabled': False, 'verified': False, 'statuses_count': 7, 'lang': None, 'contributors_enabled': False, 'is_translator': False, 'is_translation_enabled': False, 'profile_background_color': 'C0DEED', 'profile_background_image_url': 'http://abs.twimg.com/images/themes/theme1/bg.png', 'profile_background_image_url_https': 'https://abs.twimg.com/images/themes/theme1/bg.png', 'profile_background_tile': False, 'profile_image_url': 'http://pbs.twimg.com/profile_images/565973398904242178/jlVVQD43_normal.jpeg', 'profile_image_url_https': 'https://pbs.twimg.com/profile_images/565973398904242178/jlVVQD43_normal.jpeg', 'profile_link_color': '1DA1F2', 'profile_sidebar_border_color': 'C0DEED', 'profile_sidebar_fill_color': 'DDEEF6', 'profile_text_color': '333333', 'profile_use_background_image': True, 'has_extended_profile': True, 'default_profile': True, 'default_profile_image': False, 'following': False, 'follow_request_sent': False, 'notifications': False, 'translator_type': 'none'}, 'geo': None, 'coordinates': None, 'place': None, 'contributors': None, 'is_quote_status': False, 'retweet_count': 0, 'favorite_count': 0, 'favorited': False, 'retweeted': False, 'lang': 'en'}, created_at=datetime.datetime(2020, 11, 19, 16, 4, 47), id=1329455590578466818, id_str='1329455590578466818', full_text=\"@realDonaldTrump Donald J Trump, we've heard from you niece on CNN. She has given us great knowledge about you. You need to respect the people, and concede your loss. All you are doing is delaying  the transition, and hurting the people of the u.s. I was a Republican, but before the election\", truncated=False, display_text_range=[17, 292], entities={'hashtags': [], 'symbols': [], 'user_mentions': [{'screen_name': 'realDonaldTrump', 'name': 'Donald J. Trump', 'id': 25073877, 'id_str': '25073877', 'indices': [0, 16]}], 'urls': []}, metadata={'iso_language_code': 'en', 'result_type': 'recent'}, source='Twitter Web App', source_url='https://mobile.twitter.com', in_reply_to_status_id=1329404785083232256, in_reply_to_status_id_str='1329404785083232256', in_reply_to_user_id=25073877, in_reply_to_user_id_str='25073877', in_reply_to_screen_name='realDonaldTrump', author=User(_api=<tweepy.api.API object at 0x00000269D4576788>, _json={'id': 3033386957, 'id_str': '3033386957', 'name': 'Brian L Brown', 'screen_name': 'brianbllyj1258', 'location': '', 'description': '', 'url': None, 'entities': {'description': {'urls': []}}, 'protected': False, 'followers_count': 8, 'friends_count': 46, 'listed_count': 0, 'created_at': 'Thu Feb 12 20:34:36 +0000 2015', 'favourites_count': 21, 'utc_offset': None, 'time_zone': None, 'geo_enabled': False, 'verified': False, 'statuses_count': 7, 'lang': None, 'contributors_enabled': False, 'is_translator': False, 'is_translation_enabled': False, 'profile_background_color': 'C0DEED', 'profile_background_image_url': 'http://abs.twimg.com/images/themes/theme1/bg.png', 'profile_background_image_url_https': 'https://abs.twimg.com/images/themes/theme1/bg.png', 'profile_background_tile': False, 'profile_image_url': 'http://pbs.twimg.com/profile_images/565973398904242178/jlVVQD43_normal.jpeg', 'profile_image_url_https': 'https://pbs.twimg.com/profile_images/565973398904242178/jlVVQD43_normal.jpeg', 'profile_link_color': '1DA1F2', 'profile_sidebar_border_color': 'C0DEED', 'profile_sidebar_fill_color': 'DDEEF6', 'profile_text_color': '333333', 'profile_use_background_image': True, 'has_extended_profile': True, 'default_profile': True, 'default_profile_image': False, 'following': False, 'follow_request_sent': False, 'notifications': False, 'translator_type': 'none'}, id=3033386957, id_str='3033386957', name='Brian L Brown', screen_name='brianbllyj1258', location='', description='', url=None, entities={'description': {'urls': []}}, protected=False, followers_count=8, friends_count=46, listed_count=0, created_at=datetime.datetime(2015, 2, 12, 20, 34, 36), favourites_count=21, utc_offset=None, time_zone=None, geo_enabled=False, verified=False, statuses_count=7, lang=None, contributors_enabled=False, is_translator=False, is_translation_enabled=False, profile_background_color='C0DEED', profile_background_image_url='http://abs.twimg.com/images/themes/theme1/bg.png', profile_background_image_url_https='https://abs.twimg.com/images/themes/theme1/bg.png', profile_background_tile=False, profile_image_url='http://pbs.twimg.com/profile_images/565973398904242178/jlVVQD43_normal.jpeg', profile_image_url_https='https://pbs.twimg.com/profile_images/565973398904242178/jlVVQD43_normal.jpeg', profile_link_color='1DA1F2', profile_sidebar_border_color='C0DEED', profile_sidebar_fill_color='DDEEF6', profile_text_color='333333', profile_use_background_image=True, has_extended_profile=True, default_profile=True, default_profile_image=False, following=False, follow_request_sent=False, notifications=False, translator_type='none'), user=User(_api=<tweepy.api.API object at 0x00000269D4576788>, _json={'id': 3033386957, 'id_str': '3033386957', 'name': 'Brian L Brown', 'screen_name': 'brianbllyj1258', 'location': '', 'description': '', 'url': None, 'entities': {'description': {'urls': []}}, 'protected': False, 'followers_count': 8, 'friends_count': 46, 'listed_count': 0, 'created_at': 'Thu Feb 12 20:34:36 +0000 2015', 'favourites_count': 21, 'utc_offset': None, 'time_zone': None, 'geo_enabled': False, 'verified': False, 'statuses_count': 7, 'lang': None, 'contributors_enabled': False, 'is_translator': False, 'is_translation_enabled': False, 'profile_background_color': 'C0DEED', 'profile_background_image_url': 'http://abs.twimg.com/images/themes/theme1/bg.png', 'profile_background_image_url_https': 'https://abs.twimg.com/images/themes/theme1/bg.png', 'profile_background_tile': False, 'profile_image_url': 'http://pbs.twimg.com/profile_images/565973398904242178/jlVVQD43_normal.jpeg', 'profile_image_url_https': 'https://pbs.twimg.com/profile_images/565973398904242178/jlVVQD43_normal.jpeg', 'profile_link_color': '1DA1F2', 'profile_sidebar_border_color': 'C0DEED', 'profile_sidebar_fill_color': 'DDEEF6', 'profile_text_color': '333333', 'profile_use_background_image': True, 'has_extended_profile': True, 'default_profile': True, 'default_profile_image': False, 'following': False, 'follow_request_sent': False, 'notifications': False, 'translator_type': 'none'}, id=3033386957, id_str='3033386957', name='Brian L Brown', screen_name='brianbllyj1258', location='', description='', url=None, entities={'description': {'urls': []}}, protected=False, followers_count=8, friends_count=46, listed_count=0, created_at=datetime.datetime(2015, 2, 12, 20, 34, 36), favourites_count=21, utc_offset=None, time_zone=None, geo_enabled=False, verified=False, statuses_count=7, lang=None, contributors_enabled=False, is_translator=False, is_translation_enabled=False, profile_background_color='C0DEED', profile_background_image_url='http://abs.twimg.com/images/themes/theme1/bg.png', profile_background_image_url_https='https://abs.twimg.com/images/themes/theme1/bg.png', profile_background_tile=False, profile_image_url='http://pbs.twimg.com/profile_images/565973398904242178/jlVVQD43_normal.jpeg', profile_image_url_https='https://pbs.twimg.com/profile_images/565973398904242178/jlVVQD43_normal.jpeg', profile_link_color='1DA1F2', profile_sidebar_border_color='C0DEED', profile_sidebar_fill_color='DDEEF6', profile_text_color='333333', profile_use_background_image=True, has_extended_profile=True, default_profile=True, default_profile_image=False, following=False, follow_request_sent=False, notifications=False, translator_type='none'), geo=None, coordinates=None, place=None, contributors=None, is_quote_status=False, retweet_count=0, favorite_count=0, favorited=False, retweeted=False, lang='en') \n",
      "\n",
      ".....................................\n",
      "\n",
      "Status(_api=<tweepy.api.API object at 0x00000269D4576788>, _json={'created_at': 'Thu Nov 19 16:03:10 +0000 2020', 'id': 1329455185358446593, 'id_str': '1329455185358446593', 'full_text': '@realDonaldTrump @BrianKempGA Everyone is ashamed and embarrassed by Donald J Trump. He is the most corrupt person every to hold office and would cast doubt on a free and fair election and promote civil unrest to avoid the humiliation of his election loss.', 'truncated': False, 'display_text_range': [30, 256], 'entities': {'hashtags': [], 'symbols': [], 'user_mentions': [{'screen_name': 'realDonaldTrump', 'name': 'Donald J. Trump', 'id': 25073877, 'id_str': '25073877', 'indices': [0, 16]}, {'screen_name': 'BrianKempGA', 'name': 'Brian Kemp', 'id': 47437206, 'id_str': '47437206', 'indices': [17, 29]}], 'urls': []}, 'metadata': {'iso_language_code': 'en', 'result_type': 'recent'}, 'source': '<a href=\"http://twitter.com/download/iphone\" rel=\"nofollow\">Twitter for iPhone</a>', 'in_reply_to_status_id': 1329424134166687744, 'in_reply_to_status_id_str': '1329424134166687744', 'in_reply_to_user_id': 25073877, 'in_reply_to_user_id_str': '25073877', 'in_reply_to_screen_name': 'realDonaldTrump', 'user': {'id': 765668316, 'id_str': '765668316', 'name': 'Denize Bee 🌊', 'screen_name': 'DBalistrer', 'location': '', 'description': 'Resist Trump-Stop the madness. Take our country back. Save our democracy and our planet. No DMs please. 🏴\\u200d☠️', 'url': None, 'entities': {'description': {'urls': []}}, 'protected': False, 'followers_count': 6725, 'friends_count': 7329, 'listed_count': 0, 'created_at': 'Sat Aug 18 13:03:25 +0000 2012', 'favourites_count': 68072, 'utc_offset': None, 'time_zone': None, 'geo_enabled': True, 'verified': False, 'statuses_count': 21442, 'lang': None, 'contributors_enabled': False, 'is_translator': False, 'is_translation_enabled': False, 'profile_background_color': 'C0DEED', 'profile_background_image_url': 'http://abs.twimg.com/images/themes/theme1/bg.png', 'profile_background_image_url_https': 'https://abs.twimg.com/images/themes/theme1/bg.png', 'profile_background_tile': False, 'profile_image_url': 'http://pbs.twimg.com/profile_images/1028637830598336512/Jca60beb_normal.jpg', 'profile_image_url_https': 'https://pbs.twimg.com/profile_images/1028637830598336512/Jca60beb_normal.jpg', 'profile_banner_url': 'https://pbs.twimg.com/profile_banners/765668316/1534081347', 'profile_link_color': '1DA1F2', 'profile_sidebar_border_color': 'C0DEED', 'profile_sidebar_fill_color': 'DDEEF6', 'profile_text_color': '333333', 'profile_use_background_image': True, 'has_extended_profile': False, 'default_profile': True, 'default_profile_image': False, 'following': False, 'follow_request_sent': False, 'notifications': False, 'translator_type': 'none'}, 'geo': None, 'coordinates': None, 'place': None, 'contributors': None, 'is_quote_status': False, 'retweet_count': 1, 'favorite_count': 0, 'favorited': False, 'retweeted': False, 'lang': 'en'}, created_at=datetime.datetime(2020, 11, 19, 16, 3, 10), id=1329455185358446593, id_str='1329455185358446593', full_text='@realDonaldTrump @BrianKempGA Everyone is ashamed and embarrassed by Donald J Trump. He is the most corrupt person every to hold office and would cast doubt on a free and fair election and promote civil unrest to avoid the humiliation of his election loss.', truncated=False, display_text_range=[30, 256], entities={'hashtags': [], 'symbols': [], 'user_mentions': [{'screen_name': 'realDonaldTrump', 'name': 'Donald J. Trump', 'id': 25073877, 'id_str': '25073877', 'indices': [0, 16]}, {'screen_name': 'BrianKempGA', 'name': 'Brian Kemp', 'id': 47437206, 'id_str': '47437206', 'indices': [17, 29]}], 'urls': []}, metadata={'iso_language_code': 'en', 'result_type': 'recent'}, source='Twitter for iPhone', source_url='http://twitter.com/download/iphone', in_reply_to_status_id=1329424134166687744, in_reply_to_status_id_str='1329424134166687744', in_reply_to_user_id=25073877, in_reply_to_user_id_str='25073877', in_reply_to_screen_name='realDonaldTrump', author=User(_api=<tweepy.api.API object at 0x00000269D4576788>, _json={'id': 765668316, 'id_str': '765668316', 'name': 'Denize Bee 🌊', 'screen_name': 'DBalistrer', 'location': '', 'description': 'Resist Trump-Stop the madness. Take our country back. Save our democracy and our planet. No DMs please. 🏴\\u200d☠️', 'url': None, 'entities': {'description': {'urls': []}}, 'protected': False, 'followers_count': 6725, 'friends_count': 7329, 'listed_count': 0, 'created_at': 'Sat Aug 18 13:03:25 +0000 2012', 'favourites_count': 68072, 'utc_offset': None, 'time_zone': None, 'geo_enabled': True, 'verified': False, 'statuses_count': 21442, 'lang': None, 'contributors_enabled': False, 'is_translator': False, 'is_translation_enabled': False, 'profile_background_color': 'C0DEED', 'profile_background_image_url': 'http://abs.twimg.com/images/themes/theme1/bg.png', 'profile_background_image_url_https': 'https://abs.twimg.com/images/themes/theme1/bg.png', 'profile_background_tile': False, 'profile_image_url': 'http://pbs.twimg.com/profile_images/1028637830598336512/Jca60beb_normal.jpg', 'profile_image_url_https': 'https://pbs.twimg.com/profile_images/1028637830598336512/Jca60beb_normal.jpg', 'profile_banner_url': 'https://pbs.twimg.com/profile_banners/765668316/1534081347', 'profile_link_color': '1DA1F2', 'profile_sidebar_border_color': 'C0DEED', 'profile_sidebar_fill_color': 'DDEEF6', 'profile_text_color': '333333', 'profile_use_background_image': True, 'has_extended_profile': False, 'default_profile': True, 'default_profile_image': False, 'following': False, 'follow_request_sent': False, 'notifications': False, 'translator_type': 'none'}, id=765668316, id_str='765668316', name='Denize Bee 🌊', screen_name='DBalistrer', location='', description='Resist Trump-Stop the madness. Take our country back. Save our democracy and our planet. No DMs please. 🏴\\u200d☠️', url=None, entities={'description': {'urls': []}}, protected=False, followers_count=6725, friends_count=7329, listed_count=0, created_at=datetime.datetime(2012, 8, 18, 13, 3, 25), favourites_count=68072, utc_offset=None, time_zone=None, geo_enabled=True, verified=False, statuses_count=21442, lang=None, contributors_enabled=False, is_translator=False, is_translation_enabled=False, profile_background_color='C0DEED', profile_background_image_url='http://abs.twimg.com/images/themes/theme1/bg.png', profile_background_image_url_https='https://abs.twimg.com/images/themes/theme1/bg.png', profile_background_tile=False, profile_image_url='http://pbs.twimg.com/profile_images/1028637830598336512/Jca60beb_normal.jpg', profile_image_url_https='https://pbs.twimg.com/profile_images/1028637830598336512/Jca60beb_normal.jpg', profile_banner_url='https://pbs.twimg.com/profile_banners/765668316/1534081347', profile_link_color='1DA1F2', profile_sidebar_border_color='C0DEED', profile_sidebar_fill_color='DDEEF6', profile_text_color='333333', profile_use_background_image=True, has_extended_profile=False, default_profile=True, default_profile_image=False, following=False, follow_request_sent=False, notifications=False, translator_type='none'), user=User(_api=<tweepy.api.API object at 0x00000269D4576788>, _json={'id': 765668316, 'id_str': '765668316', 'name': 'Denize Bee 🌊', 'screen_name': 'DBalistrer', 'location': '', 'description': 'Resist Trump-Stop the madness. Take our country back. Save our democracy and our planet. No DMs please. 🏴\\u200d☠️', 'url': None, 'entities': {'description': {'urls': []}}, 'protected': False, 'followers_count': 6725, 'friends_count': 7329, 'listed_count': 0, 'created_at': 'Sat Aug 18 13:03:25 +0000 2012', 'favourites_count': 68072, 'utc_offset': None, 'time_zone': None, 'geo_enabled': True, 'verified': False, 'statuses_count': 21442, 'lang': None, 'contributors_enabled': False, 'is_translator': False, 'is_translation_enabled': False, 'profile_background_color': 'C0DEED', 'profile_background_image_url': 'http://abs.twimg.com/images/themes/theme1/bg.png', 'profile_background_image_url_https': 'https://abs.twimg.com/images/themes/theme1/bg.png', 'profile_background_tile': False, 'profile_image_url': 'http://pbs.twimg.com/profile_images/1028637830598336512/Jca60beb_normal.jpg', 'profile_image_url_https': 'https://pbs.twimg.com/profile_images/1028637830598336512/Jca60beb_normal.jpg', 'profile_banner_url': 'https://pbs.twimg.com/profile_banners/765668316/1534081347', 'profile_link_color': '1DA1F2', 'profile_sidebar_border_color': 'C0DEED', 'profile_sidebar_fill_color': 'DDEEF6', 'profile_text_color': '333333', 'profile_use_background_image': True, 'has_extended_profile': False, 'default_profile': True, 'default_profile_image': False, 'following': False, 'follow_request_sent': False, 'notifications': False, 'translator_type': 'none'}, id=765668316, id_str='765668316', name='Denize Bee 🌊', screen_name='DBalistrer', location='', description='Resist Trump-Stop the madness. Take our country back. Save our democracy and our planet. No DMs please. 🏴\\u200d☠️', url=None, entities={'description': {'urls': []}}, protected=False, followers_count=6725, friends_count=7329, listed_count=0, created_at=datetime.datetime(2012, 8, 18, 13, 3, 25), favourites_count=68072, utc_offset=None, time_zone=None, geo_enabled=True, verified=False, statuses_count=21442, lang=None, contributors_enabled=False, is_translator=False, is_translation_enabled=False, profile_background_color='C0DEED', profile_background_image_url='http://abs.twimg.com/images/themes/theme1/bg.png', profile_background_image_url_https='https://abs.twimg.com/images/themes/theme1/bg.png', profile_background_tile=False, profile_image_url='http://pbs.twimg.com/profile_images/1028637830598336512/Jca60beb_normal.jpg', profile_image_url_https='https://pbs.twimg.com/profile_images/1028637830598336512/Jca60beb_normal.jpg', profile_banner_url='https://pbs.twimg.com/profile_banners/765668316/1534081347', profile_link_color='1DA1F2', profile_sidebar_border_color='C0DEED', profile_sidebar_fill_color='DDEEF6', profile_text_color='333333', profile_use_background_image=True, has_extended_profile=False, default_profile=True, default_profile_image=False, following=False, follow_request_sent=False, notifications=False, translator_type='none'), geo=None, coordinates=None, place=None, contributors=None, is_quote_status=False, retweet_count=1, favorite_count=0, favorited=False, retweeted=False, lang='en') \n",
      "\n",
      ".....................................\n",
      "\n",
      "Status(_api=<tweepy.api.API object at 0x00000269D4576788>, _json={'created_at': 'Thu Nov 19 16:00:55 +0000 2020', 'id': 1329454617546067973, 'id_str': '1329454617546067973', 'full_text': '@realDonaldTrump @BrianKempGA The 🤡 Donald Trump on Tue. fired the Dir of the federal agency that had reassured Americans about the security of the 2020 election, contradicting his claims that his loss was the result of widespread voter fraud. 🤡🍄🤡🍄NONE,NADA, ZERO you just lost crazy man #BidenTransition', 'truncated': False, 'display_text_range': [30, 304], 'entities': {'hashtags': [{'text': 'BidenTransition', 'indices': [288, 304]}], 'symbols': [], 'user_mentions': [{'screen_name': 'realDonaldTrump', 'name': 'Donald J. Trump', 'id': 25073877, 'id_str': '25073877', 'indices': [0, 16]}, {'screen_name': 'BrianKempGA', 'name': 'Brian Kemp', 'id': 47437206, 'id_str': '47437206', 'indices': [17, 29]}], 'urls': []}, 'metadata': {'iso_language_code': 'en', 'result_type': 'recent'}, 'source': '<a href=\"http://twitter.com/download/iphone\" rel=\"nofollow\">Twitter for iPhone</a>', 'in_reply_to_status_id': 1329424134166687744, 'in_reply_to_status_id_str': '1329424134166687744', 'in_reply_to_user_id': 25073877, 'in_reply_to_user_id_str': '25073877', 'in_reply_to_screen_name': 'realDonaldTrump', 'user': {'id': 1009780424, 'id_str': '1009780424', 'name': 'Sandy', 'screen_name': 'apugslife12', 'location': '', 'description': 'Happily married sincec Dec 1989. Happy go lucky!!! with 2 kids. Enjoy life to the fullest!!!', 'url': None, 'entities': {'description': {'urls': []}}, 'protected': False, 'followers_count': 27, 'friends_count': 118, 'listed_count': 1, 'created_at': 'Thu Dec 13 21:41:10 +0000 2012', 'favourites_count': 1679, 'utc_offset': None, 'time_zone': None, 'geo_enabled': False, 'verified': False, 'statuses_count': 1144, 'lang': None, 'contributors_enabled': False, 'is_translator': False, 'is_translation_enabled': False, 'profile_background_color': 'C0DEED', 'profile_background_image_url': 'http://abs.twimg.com/images/themes/theme1/bg.png', 'profile_background_image_url_https': 'https://abs.twimg.com/images/themes/theme1/bg.png', 'profile_background_tile': False, 'profile_image_url': 'http://pbs.twimg.com/profile_images/2979573957/87c29098b2142f74ce600e0393be77a6_normal.jpeg', 'profile_image_url_https': 'https://pbs.twimg.com/profile_images/2979573957/87c29098b2142f74ce600e0393be77a6_normal.jpeg', 'profile_banner_url': 'https://pbs.twimg.com/profile_banners/1009780424/1502899145', 'profile_link_color': '1DA1F2', 'profile_sidebar_border_color': 'C0DEED', 'profile_sidebar_fill_color': 'DDEEF6', 'profile_text_color': '333333', 'profile_use_background_image': True, 'has_extended_profile': True, 'default_profile': True, 'default_profile_image': False, 'following': False, 'follow_request_sent': False, 'notifications': False, 'translator_type': 'none'}, 'geo': None, 'coordinates': None, 'place': None, 'contributors': None, 'is_quote_status': False, 'retweet_count': 0, 'favorite_count': 0, 'favorited': False, 'retweeted': False, 'lang': 'en'}, created_at=datetime.datetime(2020, 11, 19, 16, 0, 55), id=1329454617546067973, id_str='1329454617546067973', full_text='@realDonaldTrump @BrianKempGA The 🤡 Donald Trump on Tue. fired the Dir of the federal agency that had reassured Americans about the security of the 2020 election, contradicting his claims that his loss was the result of widespread voter fraud. 🤡🍄🤡🍄NONE,NADA, ZERO you just lost crazy man #BidenTransition', truncated=False, display_text_range=[30, 304], entities={'hashtags': [{'text': 'BidenTransition', 'indices': [288, 304]}], 'symbols': [], 'user_mentions': [{'screen_name': 'realDonaldTrump', 'name': 'Donald J. Trump', 'id': 25073877, 'id_str': '25073877', 'indices': [0, 16]}, {'screen_name': 'BrianKempGA', 'name': 'Brian Kemp', 'id': 47437206, 'id_str': '47437206', 'indices': [17, 29]}], 'urls': []}, metadata={'iso_language_code': 'en', 'result_type': 'recent'}, source='Twitter for iPhone', source_url='http://twitter.com/download/iphone', in_reply_to_status_id=1329424134166687744, in_reply_to_status_id_str='1329424134166687744', in_reply_to_user_id=25073877, in_reply_to_user_id_str='25073877', in_reply_to_screen_name='realDonaldTrump', author=User(_api=<tweepy.api.API object at 0x00000269D4576788>, _json={'id': 1009780424, 'id_str': '1009780424', 'name': 'Sandy', 'screen_name': 'apugslife12', 'location': '', 'description': 'Happily married sincec Dec 1989. Happy go lucky!!! with 2 kids. Enjoy life to the fullest!!!', 'url': None, 'entities': {'description': {'urls': []}}, 'protected': False, 'followers_count': 27, 'friends_count': 118, 'listed_count': 1, 'created_at': 'Thu Dec 13 21:41:10 +0000 2012', 'favourites_count': 1679, 'utc_offset': None, 'time_zone': None, 'geo_enabled': False, 'verified': False, 'statuses_count': 1144, 'lang': None, 'contributors_enabled': False, 'is_translator': False, 'is_translation_enabled': False, 'profile_background_color': 'C0DEED', 'profile_background_image_url': 'http://abs.twimg.com/images/themes/theme1/bg.png', 'profile_background_image_url_https': 'https://abs.twimg.com/images/themes/theme1/bg.png', 'profile_background_tile': False, 'profile_image_url': 'http://pbs.twimg.com/profile_images/2979573957/87c29098b2142f74ce600e0393be77a6_normal.jpeg', 'profile_image_url_https': 'https://pbs.twimg.com/profile_images/2979573957/87c29098b2142f74ce600e0393be77a6_normal.jpeg', 'profile_banner_url': 'https://pbs.twimg.com/profile_banners/1009780424/1502899145', 'profile_link_color': '1DA1F2', 'profile_sidebar_border_color': 'C0DEED', 'profile_sidebar_fill_color': 'DDEEF6', 'profile_text_color': '333333', 'profile_use_background_image': True, 'has_extended_profile': True, 'default_profile': True, 'default_profile_image': False, 'following': False, 'follow_request_sent': False, 'notifications': False, 'translator_type': 'none'}, id=1009780424, id_str='1009780424', name='Sandy', screen_name='apugslife12', location='', description='Happily married sincec Dec 1989. Happy go lucky!!! with 2 kids. Enjoy life to the fullest!!!', url=None, entities={'description': {'urls': []}}, protected=False, followers_count=27, friends_count=118, listed_count=1, created_at=datetime.datetime(2012, 12, 13, 21, 41, 10), favourites_count=1679, utc_offset=None, time_zone=None, geo_enabled=False, verified=False, statuses_count=1144, lang=None, contributors_enabled=False, is_translator=False, is_translation_enabled=False, profile_background_color='C0DEED', profile_background_image_url='http://abs.twimg.com/images/themes/theme1/bg.png', profile_background_image_url_https='https://abs.twimg.com/images/themes/theme1/bg.png', profile_background_tile=False, profile_image_url='http://pbs.twimg.com/profile_images/2979573957/87c29098b2142f74ce600e0393be77a6_normal.jpeg', profile_image_url_https='https://pbs.twimg.com/profile_images/2979573957/87c29098b2142f74ce600e0393be77a6_normal.jpeg', profile_banner_url='https://pbs.twimg.com/profile_banners/1009780424/1502899145', profile_link_color='1DA1F2', profile_sidebar_border_color='C0DEED', profile_sidebar_fill_color='DDEEF6', profile_text_color='333333', profile_use_background_image=True, has_extended_profile=True, default_profile=True, default_profile_image=False, following=False, follow_request_sent=False, notifications=False, translator_type='none'), user=User(_api=<tweepy.api.API object at 0x00000269D4576788>, _json={'id': 1009780424, 'id_str': '1009780424', 'name': 'Sandy', 'screen_name': 'apugslife12', 'location': '', 'description': 'Happily married sincec Dec 1989. Happy go lucky!!! with 2 kids. Enjoy life to the fullest!!!', 'url': None, 'entities': {'description': {'urls': []}}, 'protected': False, 'followers_count': 27, 'friends_count': 118, 'listed_count': 1, 'created_at': 'Thu Dec 13 21:41:10 +0000 2012', 'favourites_count': 1679, 'utc_offset': None, 'time_zone': None, 'geo_enabled': False, 'verified': False, 'statuses_count': 1144, 'lang': None, 'contributors_enabled': False, 'is_translator': False, 'is_translation_enabled': False, 'profile_background_color': 'C0DEED', 'profile_background_image_url': 'http://abs.twimg.com/images/themes/theme1/bg.png', 'profile_background_image_url_https': 'https://abs.twimg.com/images/themes/theme1/bg.png', 'profile_background_tile': False, 'profile_image_url': 'http://pbs.twimg.com/profile_images/2979573957/87c29098b2142f74ce600e0393be77a6_normal.jpeg', 'profile_image_url_https': 'https://pbs.twimg.com/profile_images/2979573957/87c29098b2142f74ce600e0393be77a6_normal.jpeg', 'profile_banner_url': 'https://pbs.twimg.com/profile_banners/1009780424/1502899145', 'profile_link_color': '1DA1F2', 'profile_sidebar_border_color': 'C0DEED', 'profile_sidebar_fill_color': 'DDEEF6', 'profile_text_color': '333333', 'profile_use_background_image': True, 'has_extended_profile': True, 'default_profile': True, 'default_profile_image': False, 'following': False, 'follow_request_sent': False, 'notifications': False, 'translator_type': 'none'}, id=1009780424, id_str='1009780424', name='Sandy', screen_name='apugslife12', location='', description='Happily married sincec Dec 1989. Happy go lucky!!! with 2 kids. Enjoy life to the fullest!!!', url=None, entities={'description': {'urls': []}}, protected=False, followers_count=27, friends_count=118, listed_count=1, created_at=datetime.datetime(2012, 12, 13, 21, 41, 10), favourites_count=1679, utc_offset=None, time_zone=None, geo_enabled=False, verified=False, statuses_count=1144, lang=None, contributors_enabled=False, is_translator=False, is_translation_enabled=False, profile_background_color='C0DEED', profile_background_image_url='http://abs.twimg.com/images/themes/theme1/bg.png', profile_background_image_url_https='https://abs.twimg.com/images/themes/theme1/bg.png', profile_background_tile=False, profile_image_url='http://pbs.twimg.com/profile_images/2979573957/87c29098b2142f74ce600e0393be77a6_normal.jpeg', profile_image_url_https='https://pbs.twimg.com/profile_images/2979573957/87c29098b2142f74ce600e0393be77a6_normal.jpeg', profile_banner_url='https://pbs.twimg.com/profile_banners/1009780424/1502899145', profile_link_color='1DA1F2', profile_sidebar_border_color='C0DEED', profile_sidebar_fill_color='DDEEF6', profile_text_color='333333', profile_use_background_image=True, has_extended_profile=True, default_profile=True, default_profile_image=False, following=False, follow_request_sent=False, notifications=False, translator_type='none'), geo=None, coordinates=None, place=None, contributors=None, is_quote_status=False, retweet_count=0, favorite_count=0, favorited=False, retweeted=False, lang='en') \n",
      "\n",
      ".....................................\n",
      "\n",
      "Status(_api=<tweepy.api.API object at 0x00000269D4576788>, _json={'created_at': 'Thu Nov 19 15:56:52 +0000 2020', 'id': 1329453598493839362, 'id_str': '1329453598493839362', 'full_text': '@realDonaldTrump The 🤡 Donald Trump on Tuesday fired the director of the federal agency that had reassured Americans about the security of the 2020 election, contradicting his claims that his loss was the result of widespread voter fraud. You just lost big no Voter FRAUD it’s only in your head!', 'truncated': False, 'display_text_range': [17, 295], 'entities': {'hashtags': [], 'symbols': [], 'user_mentions': [{'screen_name': 'realDonaldTrump', 'name': 'Donald J. Trump', 'id': 25073877, 'id_str': '25073877', 'indices': [0, 16]}], 'urls': []}, 'metadata': {'iso_language_code': 'en', 'result_type': 'recent'}, 'source': '<a href=\"http://twitter.com/download/iphone\" rel=\"nofollow\">Twitter for iPhone</a>', 'in_reply_to_status_id': 1329405682706247683, 'in_reply_to_status_id_str': '1329405682706247683', 'in_reply_to_user_id': 25073877, 'in_reply_to_user_id_str': '25073877', 'in_reply_to_screen_name': 'realDonaldTrump', 'user': {'id': 1009780424, 'id_str': '1009780424', 'name': 'Sandy', 'screen_name': 'apugslife12', 'location': '', 'description': 'Happily married sincec Dec 1989. Happy go lucky!!! with 2 kids. Enjoy life to the fullest!!!', 'url': None, 'entities': {'description': {'urls': []}}, 'protected': False, 'followers_count': 27, 'friends_count': 118, 'listed_count': 1, 'created_at': 'Thu Dec 13 21:41:10 +0000 2012', 'favourites_count': 1679, 'utc_offset': None, 'time_zone': None, 'geo_enabled': False, 'verified': False, 'statuses_count': 1144, 'lang': None, 'contributors_enabled': False, 'is_translator': False, 'is_translation_enabled': False, 'profile_background_color': 'C0DEED', 'profile_background_image_url': 'http://abs.twimg.com/images/themes/theme1/bg.png', 'profile_background_image_url_https': 'https://abs.twimg.com/images/themes/theme1/bg.png', 'profile_background_tile': False, 'profile_image_url': 'http://pbs.twimg.com/profile_images/2979573957/87c29098b2142f74ce600e0393be77a6_normal.jpeg', 'profile_image_url_https': 'https://pbs.twimg.com/profile_images/2979573957/87c29098b2142f74ce600e0393be77a6_normal.jpeg', 'profile_banner_url': 'https://pbs.twimg.com/profile_banners/1009780424/1502899145', 'profile_link_color': '1DA1F2', 'profile_sidebar_border_color': 'C0DEED', 'profile_sidebar_fill_color': 'DDEEF6', 'profile_text_color': '333333', 'profile_use_background_image': True, 'has_extended_profile': True, 'default_profile': True, 'default_profile_image': False, 'following': False, 'follow_request_sent': False, 'notifications': False, 'translator_type': 'none'}, 'geo': None, 'coordinates': None, 'place': None, 'contributors': None, 'is_quote_status': False, 'retweet_count': 0, 'favorite_count': 1, 'favorited': False, 'retweeted': False, 'lang': 'en'}, created_at=datetime.datetime(2020, 11, 19, 15, 56, 52), id=1329453598493839362, id_str='1329453598493839362', full_text='@realDonaldTrump The 🤡 Donald Trump on Tuesday fired the director of the federal agency that had reassured Americans about the security of the 2020 election, contradicting his claims that his loss was the result of widespread voter fraud. You just lost big no Voter FRAUD it’s only in your head!', truncated=False, display_text_range=[17, 295], entities={'hashtags': [], 'symbols': [], 'user_mentions': [{'screen_name': 'realDonaldTrump', 'name': 'Donald J. Trump', 'id': 25073877, 'id_str': '25073877', 'indices': [0, 16]}], 'urls': []}, metadata={'iso_language_code': 'en', 'result_type': 'recent'}, source='Twitter for iPhone', source_url='http://twitter.com/download/iphone', in_reply_to_status_id=1329405682706247683, in_reply_to_status_id_str='1329405682706247683', in_reply_to_user_id=25073877, in_reply_to_user_id_str='25073877', in_reply_to_screen_name='realDonaldTrump', author=User(_api=<tweepy.api.API object at 0x00000269D4576788>, _json={'id': 1009780424, 'id_str': '1009780424', 'name': 'Sandy', 'screen_name': 'apugslife12', 'location': '', 'description': 'Happily married sincec Dec 1989. Happy go lucky!!! with 2 kids. Enjoy life to the fullest!!!', 'url': None, 'entities': {'description': {'urls': []}}, 'protected': False, 'followers_count': 27, 'friends_count': 118, 'listed_count': 1, 'created_at': 'Thu Dec 13 21:41:10 +0000 2012', 'favourites_count': 1679, 'utc_offset': None, 'time_zone': None, 'geo_enabled': False, 'verified': False, 'statuses_count': 1144, 'lang': None, 'contributors_enabled': False, 'is_translator': False, 'is_translation_enabled': False, 'profile_background_color': 'C0DEED', 'profile_background_image_url': 'http://abs.twimg.com/images/themes/theme1/bg.png', 'profile_background_image_url_https': 'https://abs.twimg.com/images/themes/theme1/bg.png', 'profile_background_tile': False, 'profile_image_url': 'http://pbs.twimg.com/profile_images/2979573957/87c29098b2142f74ce600e0393be77a6_normal.jpeg', 'profile_image_url_https': 'https://pbs.twimg.com/profile_images/2979573957/87c29098b2142f74ce600e0393be77a6_normal.jpeg', 'profile_banner_url': 'https://pbs.twimg.com/profile_banners/1009780424/1502899145', 'profile_link_color': '1DA1F2', 'profile_sidebar_border_color': 'C0DEED', 'profile_sidebar_fill_color': 'DDEEF6', 'profile_text_color': '333333', 'profile_use_background_image': True, 'has_extended_profile': True, 'default_profile': True, 'default_profile_image': False, 'following': False, 'follow_request_sent': False, 'notifications': False, 'translator_type': 'none'}, id=1009780424, id_str='1009780424', name='Sandy', screen_name='apugslife12', location='', description='Happily married sincec Dec 1989. Happy go lucky!!! with 2 kids. Enjoy life to the fullest!!!', url=None, entities={'description': {'urls': []}}, protected=False, followers_count=27, friends_count=118, listed_count=1, created_at=datetime.datetime(2012, 12, 13, 21, 41, 10), favourites_count=1679, utc_offset=None, time_zone=None, geo_enabled=False, verified=False, statuses_count=1144, lang=None, contributors_enabled=False, is_translator=False, is_translation_enabled=False, profile_background_color='C0DEED', profile_background_image_url='http://abs.twimg.com/images/themes/theme1/bg.png', profile_background_image_url_https='https://abs.twimg.com/images/themes/theme1/bg.png', profile_background_tile=False, profile_image_url='http://pbs.twimg.com/profile_images/2979573957/87c29098b2142f74ce600e0393be77a6_normal.jpeg', profile_image_url_https='https://pbs.twimg.com/profile_images/2979573957/87c29098b2142f74ce600e0393be77a6_normal.jpeg', profile_banner_url='https://pbs.twimg.com/profile_banners/1009780424/1502899145', profile_link_color='1DA1F2', profile_sidebar_border_color='C0DEED', profile_sidebar_fill_color='DDEEF6', profile_text_color='333333', profile_use_background_image=True, has_extended_profile=True, default_profile=True, default_profile_image=False, following=False, follow_request_sent=False, notifications=False, translator_type='none'), user=User(_api=<tweepy.api.API object at 0x00000269D4576788>, _json={'id': 1009780424, 'id_str': '1009780424', 'name': 'Sandy', 'screen_name': 'apugslife12', 'location': '', 'description': 'Happily married sincec Dec 1989. Happy go lucky!!! with 2 kids. Enjoy life to the fullest!!!', 'url': None, 'entities': {'description': {'urls': []}}, 'protected': False, 'followers_count': 27, 'friends_count': 118, 'listed_count': 1, 'created_at': 'Thu Dec 13 21:41:10 +0000 2012', 'favourites_count': 1679, 'utc_offset': None, 'time_zone': None, 'geo_enabled': False, 'verified': False, 'statuses_count': 1144, 'lang': None, 'contributors_enabled': False, 'is_translator': False, 'is_translation_enabled': False, 'profile_background_color': 'C0DEED', 'profile_background_image_url': 'http://abs.twimg.com/images/themes/theme1/bg.png', 'profile_background_image_url_https': 'https://abs.twimg.com/images/themes/theme1/bg.png', 'profile_background_tile': False, 'profile_image_url': 'http://pbs.twimg.com/profile_images/2979573957/87c29098b2142f74ce600e0393be77a6_normal.jpeg', 'profile_image_url_https': 'https://pbs.twimg.com/profile_images/2979573957/87c29098b2142f74ce600e0393be77a6_normal.jpeg', 'profile_banner_url': 'https://pbs.twimg.com/profile_banners/1009780424/1502899145', 'profile_link_color': '1DA1F2', 'profile_sidebar_border_color': 'C0DEED', 'profile_sidebar_fill_color': 'DDEEF6', 'profile_text_color': '333333', 'profile_use_background_image': True, 'has_extended_profile': True, 'default_profile': True, 'default_profile_image': False, 'following': False, 'follow_request_sent': False, 'notifications': False, 'translator_type': 'none'}, id=1009780424, id_str='1009780424', name='Sandy', screen_name='apugslife12', location='', description='Happily married sincec Dec 1989. Happy go lucky!!! with 2 kids. Enjoy life to the fullest!!!', url=None, entities={'description': {'urls': []}}, protected=False, followers_count=27, friends_count=118, listed_count=1, created_at=datetime.datetime(2012, 12, 13, 21, 41, 10), favourites_count=1679, utc_offset=None, time_zone=None, geo_enabled=False, verified=False, statuses_count=1144, lang=None, contributors_enabled=False, is_translator=False, is_translation_enabled=False, profile_background_color='C0DEED', profile_background_image_url='http://abs.twimg.com/images/themes/theme1/bg.png', profile_background_image_url_https='https://abs.twimg.com/images/themes/theme1/bg.png', profile_background_tile=False, profile_image_url='http://pbs.twimg.com/profile_images/2979573957/87c29098b2142f74ce600e0393be77a6_normal.jpeg', profile_image_url_https='https://pbs.twimg.com/profile_images/2979573957/87c29098b2142f74ce600e0393be77a6_normal.jpeg', profile_banner_url='https://pbs.twimg.com/profile_banners/1009780424/1502899145', profile_link_color='1DA1F2', profile_sidebar_border_color='C0DEED', profile_sidebar_fill_color='DDEEF6', profile_text_color='333333', profile_use_background_image=True, has_extended_profile=True, default_profile=True, default_profile_image=False, following=False, follow_request_sent=False, notifications=False, translator_type='none'), geo=None, coordinates=None, place=None, contributors=None, is_quote_status=False, retweet_count=0, favorite_count=1, favorited=False, retweeted=False, lang='en') \n",
      "\n",
      ".....................................\n",
      "\n",
      "Status(_api=<tweepy.api.API object at 0x00000269D4576788>, _json={'created_at': 'Thu Nov 19 15:35:03 +0000 2020', 'id': 1329448106023395328, 'id_str': '1329448106023395328', 'full_text': '@FrankAmari2 @realDonaldTrump @BrianKempGA No one stole the election from Donald Trump, he gave it away. There are many factors that contributed to his loss, however the main reason he lost is the pandemic, and the damage it caused to the American people, both physical, and economic, due to his mishandling of it.', 'truncated': False, 'display_text_range': [43, 314], 'entities': {'hashtags': [], 'symbols': [], 'user_mentions': [{'screen_name': 'FrankAmari2', 'name': 'Frank Amari', 'id': 889522784916910080, 'id_str': '889522784916910080', 'indices': [0, 12]}, {'screen_name': 'realDonaldTrump', 'name': 'Donald J. Trump', 'id': 25073877, 'id_str': '25073877', 'indices': [13, 29]}, {'screen_name': 'BrianKempGA', 'name': 'Brian Kemp', 'id': 47437206, 'id_str': '47437206', 'indices': [30, 42]}], 'urls': []}, 'metadata': {'iso_language_code': 'en', 'result_type': 'recent'}, 'source': '<a href=\"http://twitter.com/download/iphone\" rel=\"nofollow\">Twitter for iPhone</a>', 'in_reply_to_status_id': 1329425591360237570, 'in_reply_to_status_id_str': '1329425591360237570', 'in_reply_to_user_id': 889522784916910080, 'in_reply_to_user_id_str': '889522784916910080', 'in_reply_to_screen_name': 'FrankAmari2', 'user': {'id': 1316824770097414146, 'id_str': '1316824770097414146', 'name': 'glenn', 'screen_name': 'glenn76833403', 'location': '', 'description': 'Graduated York College, Jamaica NY ,BA Cultural Anthropology', 'url': None, 'entities': {'description': {'urls': []}}, 'protected': False, 'followers_count': 73, 'friends_count': 235, 'listed_count': 0, 'created_at': 'Thu Oct 15 19:34:49 +0000 2020', 'favourites_count': 151, 'utc_offset': None, 'time_zone': None, 'geo_enabled': False, 'verified': False, 'statuses_count': 1611, 'lang': None, 'contributors_enabled': False, 'is_translator': False, 'is_translation_enabled': False, 'profile_background_color': 'F5F8FA', 'profile_background_image_url': None, 'profile_background_image_url_https': None, 'profile_background_tile': False, 'profile_image_url': 'http://pbs.twimg.com/profile_images/1320430204754513923/XfZalzBH_normal.jpg', 'profile_image_url_https': 'https://pbs.twimg.com/profile_images/1320430204754513923/XfZalzBH_normal.jpg', 'profile_banner_url': 'https://pbs.twimg.com/profile_banners/1316824770097414146/1603648804', 'profile_link_color': '1DA1F2', 'profile_sidebar_border_color': 'C0DEED', 'profile_sidebar_fill_color': 'DDEEF6', 'profile_text_color': '333333', 'profile_use_background_image': True, 'has_extended_profile': True, 'default_profile': True, 'default_profile_image': False, 'following': False, 'follow_request_sent': False, 'notifications': False, 'translator_type': 'none'}, 'geo': None, 'coordinates': None, 'place': None, 'contributors': None, 'is_quote_status': False, 'retweet_count': 1, 'favorite_count': 27, 'favorited': False, 'retweeted': False, 'lang': 'en'}, created_at=datetime.datetime(2020, 11, 19, 15, 35, 3), id=1329448106023395328, id_str='1329448106023395328', full_text='@FrankAmari2 @realDonaldTrump @BrianKempGA No one stole the election from Donald Trump, he gave it away. There are many factors that contributed to his loss, however the main reason he lost is the pandemic, and the damage it caused to the American people, both physical, and economic, due to his mishandling of it.', truncated=False, display_text_range=[43, 314], entities={'hashtags': [], 'symbols': [], 'user_mentions': [{'screen_name': 'FrankAmari2', 'name': 'Frank Amari', 'id': 889522784916910080, 'id_str': '889522784916910080', 'indices': [0, 12]}, {'screen_name': 'realDonaldTrump', 'name': 'Donald J. Trump', 'id': 25073877, 'id_str': '25073877', 'indices': [13, 29]}, {'screen_name': 'BrianKempGA', 'name': 'Brian Kemp', 'id': 47437206, 'id_str': '47437206', 'indices': [30, 42]}], 'urls': []}, metadata={'iso_language_code': 'en', 'result_type': 'recent'}, source='Twitter for iPhone', source_url='http://twitter.com/download/iphone', in_reply_to_status_id=1329425591360237570, in_reply_to_status_id_str='1329425591360237570', in_reply_to_user_id=889522784916910080, in_reply_to_user_id_str='889522784916910080', in_reply_to_screen_name='FrankAmari2', author=User(_api=<tweepy.api.API object at 0x00000269D4576788>, _json={'id': 1316824770097414146, 'id_str': '1316824770097414146', 'name': 'glenn', 'screen_name': 'glenn76833403', 'location': '', 'description': 'Graduated York College, Jamaica NY ,BA Cultural Anthropology', 'url': None, 'entities': {'description': {'urls': []}}, 'protected': False, 'followers_count': 73, 'friends_count': 235, 'listed_count': 0, 'created_at': 'Thu Oct 15 19:34:49 +0000 2020', 'favourites_count': 151, 'utc_offset': None, 'time_zone': None, 'geo_enabled': False, 'verified': False, 'statuses_count': 1611, 'lang': None, 'contributors_enabled': False, 'is_translator': False, 'is_translation_enabled': False, 'profile_background_color': 'F5F8FA', 'profile_background_image_url': None, 'profile_background_image_url_https': None, 'profile_background_tile': False, 'profile_image_url': 'http://pbs.twimg.com/profile_images/1320430204754513923/XfZalzBH_normal.jpg', 'profile_image_url_https': 'https://pbs.twimg.com/profile_images/1320430204754513923/XfZalzBH_normal.jpg', 'profile_banner_url': 'https://pbs.twimg.com/profile_banners/1316824770097414146/1603648804', 'profile_link_color': '1DA1F2', 'profile_sidebar_border_color': 'C0DEED', 'profile_sidebar_fill_color': 'DDEEF6', 'profile_text_color': '333333', 'profile_use_background_image': True, 'has_extended_profile': True, 'default_profile': True, 'default_profile_image': False, 'following': False, 'follow_request_sent': False, 'notifications': False, 'translator_type': 'none'}, id=1316824770097414146, id_str='1316824770097414146', name='glenn', screen_name='glenn76833403', location='', description='Graduated York College, Jamaica NY ,BA Cultural Anthropology', url=None, entities={'description': {'urls': []}}, protected=False, followers_count=73, friends_count=235, listed_count=0, created_at=datetime.datetime(2020, 10, 15, 19, 34, 49), favourites_count=151, utc_offset=None, time_zone=None, geo_enabled=False, verified=False, statuses_count=1611, lang=None, contributors_enabled=False, is_translator=False, is_translation_enabled=False, profile_background_color='F5F8FA', profile_background_image_url=None, profile_background_image_url_https=None, profile_background_tile=False, profile_image_url='http://pbs.twimg.com/profile_images/1320430204754513923/XfZalzBH_normal.jpg', profile_image_url_https='https://pbs.twimg.com/profile_images/1320430204754513923/XfZalzBH_normal.jpg', profile_banner_url='https://pbs.twimg.com/profile_banners/1316824770097414146/1603648804', profile_link_color='1DA1F2', profile_sidebar_border_color='C0DEED', profile_sidebar_fill_color='DDEEF6', profile_text_color='333333', profile_use_background_image=True, has_extended_profile=True, default_profile=True, default_profile_image=False, following=False, follow_request_sent=False, notifications=False, translator_type='none'), user=User(_api=<tweepy.api.API object at 0x00000269D4576788>, _json={'id': 1316824770097414146, 'id_str': '1316824770097414146', 'name': 'glenn', 'screen_name': 'glenn76833403', 'location': '', 'description': 'Graduated York College, Jamaica NY ,BA Cultural Anthropology', 'url': None, 'entities': {'description': {'urls': []}}, 'protected': False, 'followers_count': 73, 'friends_count': 235, 'listed_count': 0, 'created_at': 'Thu Oct 15 19:34:49 +0000 2020', 'favourites_count': 151, 'utc_offset': None, 'time_zone': None, 'geo_enabled': False, 'verified': False, 'statuses_count': 1611, 'lang': None, 'contributors_enabled': False, 'is_translator': False, 'is_translation_enabled': False, 'profile_background_color': 'F5F8FA', 'profile_background_image_url': None, 'profile_background_image_url_https': None, 'profile_background_tile': False, 'profile_image_url': 'http://pbs.twimg.com/profile_images/1320430204754513923/XfZalzBH_normal.jpg', 'profile_image_url_https': 'https://pbs.twimg.com/profile_images/1320430204754513923/XfZalzBH_normal.jpg', 'profile_banner_url': 'https://pbs.twimg.com/profile_banners/1316824770097414146/1603648804', 'profile_link_color': '1DA1F2', 'profile_sidebar_border_color': 'C0DEED', 'profile_sidebar_fill_color': 'DDEEF6', 'profile_text_color': '333333', 'profile_use_background_image': True, 'has_extended_profile': True, 'default_profile': True, 'default_profile_image': False, 'following': False, 'follow_request_sent': False, 'notifications': False, 'translator_type': 'none'}, id=1316824770097414146, id_str='1316824770097414146', name='glenn', screen_name='glenn76833403', location='', description='Graduated York College, Jamaica NY ,BA Cultural Anthropology', url=None, entities={'description': {'urls': []}}, protected=False, followers_count=73, friends_count=235, listed_count=0, created_at=datetime.datetime(2020, 10, 15, 19, 34, 49), favourites_count=151, utc_offset=None, time_zone=None, geo_enabled=False, verified=False, statuses_count=1611, lang=None, contributors_enabled=False, is_translator=False, is_translation_enabled=False, profile_background_color='F5F8FA', profile_background_image_url=None, profile_background_image_url_https=None, profile_background_tile=False, profile_image_url='http://pbs.twimg.com/profile_images/1320430204754513923/XfZalzBH_normal.jpg', profile_image_url_https='https://pbs.twimg.com/profile_images/1320430204754513923/XfZalzBH_normal.jpg', profile_banner_url='https://pbs.twimg.com/profile_banners/1316824770097414146/1603648804', profile_link_color='1DA1F2', profile_sidebar_border_color='C0DEED', profile_sidebar_fill_color='DDEEF6', profile_text_color='333333', profile_use_background_image=True, has_extended_profile=True, default_profile=True, default_profile_image=False, following=False, follow_request_sent=False, notifications=False, translator_type='none'), geo=None, coordinates=None, place=None, contributors=None, is_quote_status=False, retweet_count=1, favorite_count=27, favorited=False, retweeted=False, lang='en') \n",
      "\n",
      ".....................................\n",
      "\n",
      "Status(_api=<tweepy.api.API object at 0x00000269D4576788>, _json={'created_at': 'Thu Nov 19 15:34:53 +0000 2020', 'id': 1329448064889786368, 'id_str': '1329448064889786368', 'full_text': '@Candour99 @realDonaldTrump @BrianKempGA No one stole the election from Donald Trump, he gave it away. There are many factors that contributed to his loss, however the main reason he lost is the pandemic, and the damage it caused to the American people, both physical, and economic, due to his mishandling of it.', 'truncated': False, 'display_text_range': [41, 312], 'entities': {'hashtags': [], 'symbols': [], 'user_mentions': [{'screen_name': 'Candour99', 'name': 'Candour99', 'id': 1269357830836011009, 'id_str': '1269357830836011009', 'indices': [0, 10]}, {'screen_name': 'realDonaldTrump', 'name': 'Donald J. Trump', 'id': 25073877, 'id_str': '25073877', 'indices': [11, 27]}, {'screen_name': 'BrianKempGA', 'name': 'Brian Kemp', 'id': 47437206, 'id_str': '47437206', 'indices': [28, 40]}], 'urls': []}, 'metadata': {'iso_language_code': 'en', 'result_type': 'recent'}, 'source': '<a href=\"http://twitter.com/download/iphone\" rel=\"nofollow\">Twitter for iPhone</a>', 'in_reply_to_status_id': 1329424223207628803, 'in_reply_to_status_id_str': '1329424223207628803', 'in_reply_to_user_id': 1269357830836011009, 'in_reply_to_user_id_str': '1269357830836011009', 'in_reply_to_screen_name': 'Candour99', 'user': {'id': 1316824770097414146, 'id_str': '1316824770097414146', 'name': 'glenn', 'screen_name': 'glenn76833403', 'location': '', 'description': 'Graduated York College, Jamaica NY ,BA Cultural Anthropology', 'url': None, 'entities': {'description': {'urls': []}}, 'protected': False, 'followers_count': 73, 'friends_count': 235, 'listed_count': 0, 'created_at': 'Thu Oct 15 19:34:49 +0000 2020', 'favourites_count': 151, 'utc_offset': None, 'time_zone': None, 'geo_enabled': False, 'verified': False, 'statuses_count': 1611, 'lang': None, 'contributors_enabled': False, 'is_translator': False, 'is_translation_enabled': False, 'profile_background_color': 'F5F8FA', 'profile_background_image_url': None, 'profile_background_image_url_https': None, 'profile_background_tile': False, 'profile_image_url': 'http://pbs.twimg.com/profile_images/1320430204754513923/XfZalzBH_normal.jpg', 'profile_image_url_https': 'https://pbs.twimg.com/profile_images/1320430204754513923/XfZalzBH_normal.jpg', 'profile_banner_url': 'https://pbs.twimg.com/profile_banners/1316824770097414146/1603648804', 'profile_link_color': '1DA1F2', 'profile_sidebar_border_color': 'C0DEED', 'profile_sidebar_fill_color': 'DDEEF6', 'profile_text_color': '333333', 'profile_use_background_image': True, 'has_extended_profile': True, 'default_profile': True, 'default_profile_image': False, 'following': False, 'follow_request_sent': False, 'notifications': False, 'translator_type': 'none'}, 'geo': None, 'coordinates': None, 'place': None, 'contributors': None, 'is_quote_status': False, 'retweet_count': 0, 'favorite_count': 1, 'favorited': False, 'retweeted': False, 'lang': 'en'}, created_at=datetime.datetime(2020, 11, 19, 15, 34, 53), id=1329448064889786368, id_str='1329448064889786368', full_text='@Candour99 @realDonaldTrump @BrianKempGA No one stole the election from Donald Trump, he gave it away. There are many factors that contributed to his loss, however the main reason he lost is the pandemic, and the damage it caused to the American people, both physical, and economic, due to his mishandling of it.', truncated=False, display_text_range=[41, 312], entities={'hashtags': [], 'symbols': [], 'user_mentions': [{'screen_name': 'Candour99', 'name': 'Candour99', 'id': 1269357830836011009, 'id_str': '1269357830836011009', 'indices': [0, 10]}, {'screen_name': 'realDonaldTrump', 'name': 'Donald J. Trump', 'id': 25073877, 'id_str': '25073877', 'indices': [11, 27]}, {'screen_name': 'BrianKempGA', 'name': 'Brian Kemp', 'id': 47437206, 'id_str': '47437206', 'indices': [28, 40]}], 'urls': []}, metadata={'iso_language_code': 'en', 'result_type': 'recent'}, source='Twitter for iPhone', source_url='http://twitter.com/download/iphone', in_reply_to_status_id=1329424223207628803, in_reply_to_status_id_str='1329424223207628803', in_reply_to_user_id=1269357830836011009, in_reply_to_user_id_str='1269357830836011009', in_reply_to_screen_name='Candour99', author=User(_api=<tweepy.api.API object at 0x00000269D4576788>, _json={'id': 1316824770097414146, 'id_str': '1316824770097414146', 'name': 'glenn', 'screen_name': 'glenn76833403', 'location': '', 'description': 'Graduated York College, Jamaica NY ,BA Cultural Anthropology', 'url': None, 'entities': {'description': {'urls': []}}, 'protected': False, 'followers_count': 73, 'friends_count': 235, 'listed_count': 0, 'created_at': 'Thu Oct 15 19:34:49 +0000 2020', 'favourites_count': 151, 'utc_offset': None, 'time_zone': None, 'geo_enabled': False, 'verified': False, 'statuses_count': 1611, 'lang': None, 'contributors_enabled': False, 'is_translator': False, 'is_translation_enabled': False, 'profile_background_color': 'F5F8FA', 'profile_background_image_url': None, 'profile_background_image_url_https': None, 'profile_background_tile': False, 'profile_image_url': 'http://pbs.twimg.com/profile_images/1320430204754513923/XfZalzBH_normal.jpg', 'profile_image_url_https': 'https://pbs.twimg.com/profile_images/1320430204754513923/XfZalzBH_normal.jpg', 'profile_banner_url': 'https://pbs.twimg.com/profile_banners/1316824770097414146/1603648804', 'profile_link_color': '1DA1F2', 'profile_sidebar_border_color': 'C0DEED', 'profile_sidebar_fill_color': 'DDEEF6', 'profile_text_color': '333333', 'profile_use_background_image': True, 'has_extended_profile': True, 'default_profile': True, 'default_profile_image': False, 'following': False, 'follow_request_sent': False, 'notifications': False, 'translator_type': 'none'}, id=1316824770097414146, id_str='1316824770097414146', name='glenn', screen_name='glenn76833403', location='', description='Graduated York College, Jamaica NY ,BA Cultural Anthropology', url=None, entities={'description': {'urls': []}}, protected=False, followers_count=73, friends_count=235, listed_count=0, created_at=datetime.datetime(2020, 10, 15, 19, 34, 49), favourites_count=151, utc_offset=None, time_zone=None, geo_enabled=False, verified=False, statuses_count=1611, lang=None, contributors_enabled=False, is_translator=False, is_translation_enabled=False, profile_background_color='F5F8FA', profile_background_image_url=None, profile_background_image_url_https=None, profile_background_tile=False, profile_image_url='http://pbs.twimg.com/profile_images/1320430204754513923/XfZalzBH_normal.jpg', profile_image_url_https='https://pbs.twimg.com/profile_images/1320430204754513923/XfZalzBH_normal.jpg', profile_banner_url='https://pbs.twimg.com/profile_banners/1316824770097414146/1603648804', profile_link_color='1DA1F2', profile_sidebar_border_color='C0DEED', profile_sidebar_fill_color='DDEEF6', profile_text_color='333333', profile_use_background_image=True, has_extended_profile=True, default_profile=True, default_profile_image=False, following=False, follow_request_sent=False, notifications=False, translator_type='none'), user=User(_api=<tweepy.api.API object at 0x00000269D4576788>, _json={'id': 1316824770097414146, 'id_str': '1316824770097414146', 'name': 'glenn', 'screen_name': 'glenn76833403', 'location': '', 'description': 'Graduated York College, Jamaica NY ,BA Cultural Anthropology', 'url': None, 'entities': {'description': {'urls': []}}, 'protected': False, 'followers_count': 73, 'friends_count': 235, 'listed_count': 0, 'created_at': 'Thu Oct 15 19:34:49 +0000 2020', 'favourites_count': 151, 'utc_offset': None, 'time_zone': None, 'geo_enabled': False, 'verified': False, 'statuses_count': 1611, 'lang': None, 'contributors_enabled': False, 'is_translator': False, 'is_translation_enabled': False, 'profile_background_color': 'F5F8FA', 'profile_background_image_url': None, 'profile_background_image_url_https': None, 'profile_background_tile': False, 'profile_image_url': 'http://pbs.twimg.com/profile_images/1320430204754513923/XfZalzBH_normal.jpg', 'profile_image_url_https': 'https://pbs.twimg.com/profile_images/1320430204754513923/XfZalzBH_normal.jpg', 'profile_banner_url': 'https://pbs.twimg.com/profile_banners/1316824770097414146/1603648804', 'profile_link_color': '1DA1F2', 'profile_sidebar_border_color': 'C0DEED', 'profile_sidebar_fill_color': 'DDEEF6', 'profile_text_color': '333333', 'profile_use_background_image': True, 'has_extended_profile': True, 'default_profile': True, 'default_profile_image': False, 'following': False, 'follow_request_sent': False, 'notifications': False, 'translator_type': 'none'}, id=1316824770097414146, id_str='1316824770097414146', name='glenn', screen_name='glenn76833403', location='', description='Graduated York College, Jamaica NY ,BA Cultural Anthropology', url=None, entities={'description': {'urls': []}}, protected=False, followers_count=73, friends_count=235, listed_count=0, created_at=datetime.datetime(2020, 10, 15, 19, 34, 49), favourites_count=151, utc_offset=None, time_zone=None, geo_enabled=False, verified=False, statuses_count=1611, lang=None, contributors_enabled=False, is_translator=False, is_translation_enabled=False, profile_background_color='F5F8FA', profile_background_image_url=None, profile_background_image_url_https=None, profile_background_tile=False, profile_image_url='http://pbs.twimg.com/profile_images/1320430204754513923/XfZalzBH_normal.jpg', profile_image_url_https='https://pbs.twimg.com/profile_images/1320430204754513923/XfZalzBH_normal.jpg', profile_banner_url='https://pbs.twimg.com/profile_banners/1316824770097414146/1603648804', profile_link_color='1DA1F2', profile_sidebar_border_color='C0DEED', profile_sidebar_fill_color='DDEEF6', profile_text_color='333333', profile_use_background_image=True, has_extended_profile=True, default_profile=True, default_profile_image=False, following=False, follow_request_sent=False, notifications=False, translator_type='none'), geo=None, coordinates=None, place=None, contributors=None, is_quote_status=False, retweet_count=0, favorite_count=1, favorited=False, retweeted=False, lang='en') \n",
      "\n",
      ".....................................\n",
      "\n",
      "Status(_api=<tweepy.api.API object at 0x00000269D4576788>, _json={'created_at': 'Thu Nov 19 15:34:37 +0000 2020', 'id': 1329447997688717313, 'id_str': '1329447997688717313', 'full_text': '@sunrise_shy @TWIT_ANTHONY @realDonaldTrump @BrianKempGA No one stole the election from Donald Trump, he gave it away. There are many factors that contributed to his loss, however the main reason he lost is the pandemic, and the damage it caused to the American people, both physical, and economic, due to his mishandling of it.', 'truncated': False, 'display_text_range': [57, 328], 'entities': {'hashtags': [], 'symbols': [], 'user_mentions': [{'screen_name': 'sunrise_shy', 'name': 'Shy Sunrise', 'id': 1296784432599187456, 'id_str': '1296784432599187456', 'indices': [0, 12]}, {'screen_name': 'TWIT_ANTHONY', 'name': 'Anthony Cornrod', 'id': 46390071, 'id_str': '46390071', 'indices': [13, 26]}, {'screen_name': 'realDonaldTrump', 'name': 'Donald J. Trump', 'id': 25073877, 'id_str': '25073877', 'indices': [27, 43]}, {'screen_name': 'BrianKempGA', 'name': 'Brian Kemp', 'id': 47437206, 'id_str': '47437206', 'indices': [44, 56]}], 'urls': []}, 'metadata': {'iso_language_code': 'en', 'result_type': 'recent'}, 'source': '<a href=\"http://twitter.com/download/iphone\" rel=\"nofollow\">Twitter for iPhone</a>', 'in_reply_to_status_id': 1329438502438785030, 'in_reply_to_status_id_str': '1329438502438785030', 'in_reply_to_user_id': 1296784432599187456, 'in_reply_to_user_id_str': '1296784432599187456', 'in_reply_to_screen_name': 'sunrise_shy', 'user': {'id': 1316824770097414146, 'id_str': '1316824770097414146', 'name': 'glenn', 'screen_name': 'glenn76833403', 'location': '', 'description': 'Graduated York College, Jamaica NY ,BA Cultural Anthropology', 'url': None, 'entities': {'description': {'urls': []}}, 'protected': False, 'followers_count': 73, 'friends_count': 235, 'listed_count': 0, 'created_at': 'Thu Oct 15 19:34:49 +0000 2020', 'favourites_count': 151, 'utc_offset': None, 'time_zone': None, 'geo_enabled': False, 'verified': False, 'statuses_count': 1611, 'lang': None, 'contributors_enabled': False, 'is_translator': False, 'is_translation_enabled': False, 'profile_background_color': 'F5F8FA', 'profile_background_image_url': None, 'profile_background_image_url_https': None, 'profile_background_tile': False, 'profile_image_url': 'http://pbs.twimg.com/profile_images/1320430204754513923/XfZalzBH_normal.jpg', 'profile_image_url_https': 'https://pbs.twimg.com/profile_images/1320430204754513923/XfZalzBH_normal.jpg', 'profile_banner_url': 'https://pbs.twimg.com/profile_banners/1316824770097414146/1603648804', 'profile_link_color': '1DA1F2', 'profile_sidebar_border_color': 'C0DEED', 'profile_sidebar_fill_color': 'DDEEF6', 'profile_text_color': '333333', 'profile_use_background_image': True, 'has_extended_profile': True, 'default_profile': True, 'default_profile_image': False, 'following': False, 'follow_request_sent': False, 'notifications': False, 'translator_type': 'none'}, 'geo': None, 'coordinates': None, 'place': None, 'contributors': None, 'is_quote_status': False, 'retweet_count': 0, 'favorite_count': 1, 'favorited': False, 'retweeted': False, 'lang': 'en'}, created_at=datetime.datetime(2020, 11, 19, 15, 34, 37), id=1329447997688717313, id_str='1329447997688717313', full_text='@sunrise_shy @TWIT_ANTHONY @realDonaldTrump @BrianKempGA No one stole the election from Donald Trump, he gave it away. There are many factors that contributed to his loss, however the main reason he lost is the pandemic, and the damage it caused to the American people, both physical, and economic, due to his mishandling of it.', truncated=False, display_text_range=[57, 328], entities={'hashtags': [], 'symbols': [], 'user_mentions': [{'screen_name': 'sunrise_shy', 'name': 'Shy Sunrise', 'id': 1296784432599187456, 'id_str': '1296784432599187456', 'indices': [0, 12]}, {'screen_name': 'TWIT_ANTHONY', 'name': 'Anthony Cornrod', 'id': 46390071, 'id_str': '46390071', 'indices': [13, 26]}, {'screen_name': 'realDonaldTrump', 'name': 'Donald J. Trump', 'id': 25073877, 'id_str': '25073877', 'indices': [27, 43]}, {'screen_name': 'BrianKempGA', 'name': 'Brian Kemp', 'id': 47437206, 'id_str': '47437206', 'indices': [44, 56]}], 'urls': []}, metadata={'iso_language_code': 'en', 'result_type': 'recent'}, source='Twitter for iPhone', source_url='http://twitter.com/download/iphone', in_reply_to_status_id=1329438502438785030, in_reply_to_status_id_str='1329438502438785030', in_reply_to_user_id=1296784432599187456, in_reply_to_user_id_str='1296784432599187456', in_reply_to_screen_name='sunrise_shy', author=User(_api=<tweepy.api.API object at 0x00000269D4576788>, _json={'id': 1316824770097414146, 'id_str': '1316824770097414146', 'name': 'glenn', 'screen_name': 'glenn76833403', 'location': '', 'description': 'Graduated York College, Jamaica NY ,BA Cultural Anthropology', 'url': None, 'entities': {'description': {'urls': []}}, 'protected': False, 'followers_count': 73, 'friends_count': 235, 'listed_count': 0, 'created_at': 'Thu Oct 15 19:34:49 +0000 2020', 'favourites_count': 151, 'utc_offset': None, 'time_zone': None, 'geo_enabled': False, 'verified': False, 'statuses_count': 1611, 'lang': None, 'contributors_enabled': False, 'is_translator': False, 'is_translation_enabled': False, 'profile_background_color': 'F5F8FA', 'profile_background_image_url': None, 'profile_background_image_url_https': None, 'profile_background_tile': False, 'profile_image_url': 'http://pbs.twimg.com/profile_images/1320430204754513923/XfZalzBH_normal.jpg', 'profile_image_url_https': 'https://pbs.twimg.com/profile_images/1320430204754513923/XfZalzBH_normal.jpg', 'profile_banner_url': 'https://pbs.twimg.com/profile_banners/1316824770097414146/1603648804', 'profile_link_color': '1DA1F2', 'profile_sidebar_border_color': 'C0DEED', 'profile_sidebar_fill_color': 'DDEEF6', 'profile_text_color': '333333', 'profile_use_background_image': True, 'has_extended_profile': True, 'default_profile': True, 'default_profile_image': False, 'following': False, 'follow_request_sent': False, 'notifications': False, 'translator_type': 'none'}, id=1316824770097414146, id_str='1316824770097414146', name='glenn', screen_name='glenn76833403', location='', description='Graduated York College, Jamaica NY ,BA Cultural Anthropology', url=None, entities={'description': {'urls': []}}, protected=False, followers_count=73, friends_count=235, listed_count=0, created_at=datetime.datetime(2020, 10, 15, 19, 34, 49), favourites_count=151, utc_offset=None, time_zone=None, geo_enabled=False, verified=False, statuses_count=1611, lang=None, contributors_enabled=False, is_translator=False, is_translation_enabled=False, profile_background_color='F5F8FA', profile_background_image_url=None, profile_background_image_url_https=None, profile_background_tile=False, profile_image_url='http://pbs.twimg.com/profile_images/1320430204754513923/XfZalzBH_normal.jpg', profile_image_url_https='https://pbs.twimg.com/profile_images/1320430204754513923/XfZalzBH_normal.jpg', profile_banner_url='https://pbs.twimg.com/profile_banners/1316824770097414146/1603648804', profile_link_color='1DA1F2', profile_sidebar_border_color='C0DEED', profile_sidebar_fill_color='DDEEF6', profile_text_color='333333', profile_use_background_image=True, has_extended_profile=True, default_profile=True, default_profile_image=False, following=False, follow_request_sent=False, notifications=False, translator_type='none'), user=User(_api=<tweepy.api.API object at 0x00000269D4576788>, _json={'id': 1316824770097414146, 'id_str': '1316824770097414146', 'name': 'glenn', 'screen_name': 'glenn76833403', 'location': '', 'description': 'Graduated York College, Jamaica NY ,BA Cultural Anthropology', 'url': None, 'entities': {'description': {'urls': []}}, 'protected': False, 'followers_count': 73, 'friends_count': 235, 'listed_count': 0, 'created_at': 'Thu Oct 15 19:34:49 +0000 2020', 'favourites_count': 151, 'utc_offset': None, 'time_zone': None, 'geo_enabled': False, 'verified': False, 'statuses_count': 1611, 'lang': None, 'contributors_enabled': False, 'is_translator': False, 'is_translation_enabled': False, 'profile_background_color': 'F5F8FA', 'profile_background_image_url': None, 'profile_background_image_url_https': None, 'profile_background_tile': False, 'profile_image_url': 'http://pbs.twimg.com/profile_images/1320430204754513923/XfZalzBH_normal.jpg', 'profile_image_url_https': 'https://pbs.twimg.com/profile_images/1320430204754513923/XfZalzBH_normal.jpg', 'profile_banner_url': 'https://pbs.twimg.com/profile_banners/1316824770097414146/1603648804', 'profile_link_color': '1DA1F2', 'profile_sidebar_border_color': 'C0DEED', 'profile_sidebar_fill_color': 'DDEEF6', 'profile_text_color': '333333', 'profile_use_background_image': True, 'has_extended_profile': True, 'default_profile': True, 'default_profile_image': False, 'following': False, 'follow_request_sent': False, 'notifications': False, 'translator_type': 'none'}, id=1316824770097414146, id_str='1316824770097414146', name='glenn', screen_name='glenn76833403', location='', description='Graduated York College, Jamaica NY ,BA Cultural Anthropology', url=None, entities={'description': {'urls': []}}, protected=False, followers_count=73, friends_count=235, listed_count=0, created_at=datetime.datetime(2020, 10, 15, 19, 34, 49), favourites_count=151, utc_offset=None, time_zone=None, geo_enabled=False, verified=False, statuses_count=1611, lang=None, contributors_enabled=False, is_translator=False, is_translation_enabled=False, profile_background_color='F5F8FA', profile_background_image_url=None, profile_background_image_url_https=None, profile_background_tile=False, profile_image_url='http://pbs.twimg.com/profile_images/1320430204754513923/XfZalzBH_normal.jpg', profile_image_url_https='https://pbs.twimg.com/profile_images/1320430204754513923/XfZalzBH_normal.jpg', profile_banner_url='https://pbs.twimg.com/profile_banners/1316824770097414146/1603648804', profile_link_color='1DA1F2', profile_sidebar_border_color='C0DEED', profile_sidebar_fill_color='DDEEF6', profile_text_color='333333', profile_use_background_image=True, has_extended_profile=True, default_profile=True, default_profile_image=False, following=False, follow_request_sent=False, notifications=False, translator_type='none'), geo=None, coordinates=None, place=None, contributors=None, is_quote_status=False, retweet_count=0, favorite_count=1, favorited=False, retweeted=False, lang='en') \n",
      "\n",
      ".....................................\n",
      "\n"
     ]
    }
   ],
   "source": [
    "Tweets = api.search( query , count=10 , lang='en' , exclude='retweets' , tweet_mode='extended' )\n",
    "# tweet_mode='extended'\n",
    "# tweet_mode='compat'\n",
    "\n",
    "for tweet in Tweets:\n",
    "    print(tweet,\"\\n\")\n",
    "    print(\".....................................\\n\")"
   ]
  },
  {
   "cell_type": "code",
   "execution_count": null,
   "metadata": {},
   "outputs": [],
   "source": []
  },
  {
   "cell_type": "code",
   "execution_count": 10,
   "metadata": {},
   "outputs": [
    {
     "name": "stdout",
     "output_type": "stream",
     "text": [
      "Empty DataFrame\n",
      "Columns: [Tweets, User, User_statuses_count, user_followers, User_location, User_verified, fav_count, rt_count, tweet_date]\n",
      "Index: []\n"
     ]
    }
   ],
   "source": [
    "df = pd.DataFrame(columns = ['Tweets' , 'User' , 'User_statuses_count' , \n",
    "                            'user_followers' , 'User_location' , 'User_verified' ,\n",
    "                            'fav_count' , 'rt_count' , 'tweet_date'] )\n",
    "print(df)"
   ]
  },
  {
   "cell_type": "code",
   "execution_count": 63,
   "metadata": {},
   "outputs": [],
   "source": [
    "def stream(data, file_name):\n",
    "    i = 0\n",
    "    for tweet in tweepy.Cursor(api.search, q=data, count=100, lang='en').items():\n",
    "        print(i, end='\\r')\n",
    "        df.loc[i, 'Tweets'] = tweet.text\n",
    "        df.loc[i, 'User'] = tweet.user.name\n",
    "        df.loc[i, 'User_statuses_count'] = tweet.user.statuses_count\n",
    "        df.loc[i, 'user_followers'] = tweet.user.followers_count\n",
    "        df.loc[i, 'User_location'] = tweet.user.location\n",
    "        df.loc[i, 'User_verified'] = tweet.user.verified\n",
    "        df.loc[i, 'fav_count'] = tweet.favorite_count\n",
    "        df.loc[i, 'rt_count'] = tweet.retweet_count\n",
    "        df.loc[i, 'tweet_date'] = tweet.created_at\n",
    "        df.to_excel('{}.xlsx'.format(file_name))\n",
    "        i = i+1\n",
    "        if i == 1000:\n",
    "            break\n",
    "        else:\n",
    "            pass"
   ]
  },
  {
   "cell_type": "code",
   "execution_count": 64,
   "metadata": {},
   "outputs": [
    {
     "name": "stdout",
     "output_type": "stream",
     "text": [
      "999\r"
     ]
    }
   ],
   "source": [
    "stream(data=['Donald Trump loss election'] , file_name='new_tweets')"
   ]
  },
  {
   "cell_type": "code",
   "execution_count": 65,
   "metadata": {},
   "outputs": [
    {
     "data": {
      "text/html": [
       "<div>\n",
       "<style scoped>\n",
       "    .dataframe tbody tr th:only-of-type {\n",
       "        vertical-align: middle;\n",
       "    }\n",
       "\n",
       "    .dataframe tbody tr th {\n",
       "        vertical-align: top;\n",
       "    }\n",
       "\n",
       "    .dataframe thead th {\n",
       "        text-align: right;\n",
       "    }\n",
       "</style>\n",
       "<table border=\"1\" class=\"dataframe\">\n",
       "  <thead>\n",
       "    <tr style=\"text-align: right;\">\n",
       "      <th></th>\n",
       "      <th>Tweets</th>\n",
       "      <th>User</th>\n",
       "      <th>User_statuses_count</th>\n",
       "      <th>user_followers</th>\n",
       "      <th>User_location</th>\n",
       "      <th>User_verified</th>\n",
       "      <th>fav_count</th>\n",
       "      <th>rt_count</th>\n",
       "      <th>tweet_date</th>\n",
       "      <th>clean_tweet</th>\n",
       "      <th>Sentiment</th>\n",
       "    </tr>\n",
       "  </thead>\n",
       "  <tbody>\n",
       "    <tr>\n",
       "      <th>0</th>\n",
       "      <td>RT @glenn76833403: @FrankAmari2 @realDonaldTru...</td>\n",
       "      <td>Lady Witch</td>\n",
       "      <td>32451</td>\n",
       "      <td>520</td>\n",
       "      <td>Cincinnati, OH</td>\n",
       "      <td>False</td>\n",
       "      <td>0</td>\n",
       "      <td>3</td>\n",
       "      <td>2020-11-19 16:57:38</td>\n",
       "      <td>RT Ninja Since Donald Trump s decisive loss in...</td>\n",
       "      <td>Neutral</td>\n",
       "    </tr>\n",
       "    <tr>\n",
       "      <th>1</th>\n",
       "      <td>Agreed. He's not a four year old and the U.S. ...</td>\n",
       "      <td>Akwasi Owusu-Bempah</td>\n",
       "      <td>4865</td>\n",
       "      <td>5768</td>\n",
       "      <td>Toronto</td>\n",
       "      <td>False</td>\n",
       "      <td>1</td>\n",
       "      <td>0</td>\n",
       "      <td>2020-11-19 16:50:44</td>\n",
       "      <td>RT Donald Trump s infantile refusal to accept ...</td>\n",
       "      <td>Negative</td>\n",
       "    </tr>\n",
       "    <tr>\n",
       "      <th>2</th>\n",
       "      <td>RT @glenn76833403: @FrankAmari2 @realDonaldTru...</td>\n",
       "      <td>Ilanna Phillips</td>\n",
       "      <td>191014</td>\n",
       "      <td>767</td>\n",
       "      <td></td>\n",
       "      <td>False</td>\n",
       "      <td>0</td>\n",
       "      <td>3</td>\n",
       "      <td>2020-11-19 16:40:28</td>\n",
       "      <td>RT Donald Trump has increasingly receded from ...</td>\n",
       "      <td>Negative</td>\n",
       "    </tr>\n",
       "    <tr>\n",
       "      <th>3</th>\n",
       "      <td>RT @UR_Ninja: Since Donald Trump’s decisive lo...</td>\n",
       "      <td>Fe</td>\n",
       "      <td>58537</td>\n",
       "      <td>109</td>\n",
       "      <td>Nowhere</td>\n",
       "      <td>False</td>\n",
       "      <td>0</td>\n",
       "      <td>60</td>\n",
       "      <td>2020-11-19 16:33:29</td>\n",
       "      <td>RT No one stole the election from Donald Trump...</td>\n",
       "      <td>Neutral</td>\n",
       "    </tr>\n",
       "    <tr>\n",
       "      <th>4</th>\n",
       "      <td>RT @MikeOkuda: Donald Trump’s infantile refusa...</td>\n",
       "      <td>Tristan Raven</td>\n",
       "      <td>14014</td>\n",
       "      <td>97</td>\n",
       "      <td></td>\n",
       "      <td>False</td>\n",
       "      <td>0</td>\n",
       "      <td>1</td>\n",
       "      <td>2020-11-19 16:32:45</td>\n",
       "      <td>Trump stewing over election loss silent as vir...</td>\n",
       "      <td>Neutral</td>\n",
       "    </tr>\n",
       "  </tbody>\n",
       "</table>\n",
       "</div>"
      ],
      "text/plain": [
       "                                              Tweets                 User  \\\n",
       "0  RT @glenn76833403: @FrankAmari2 @realDonaldTru...           Lady Witch   \n",
       "1  Agreed. He's not a four year old and the U.S. ...  Akwasi Owusu-Bempah   \n",
       "2  RT @glenn76833403: @FrankAmari2 @realDonaldTru...      Ilanna Phillips   \n",
       "3  RT @UR_Ninja: Since Donald Trump’s decisive lo...                   Fe   \n",
       "4  RT @MikeOkuda: Donald Trump’s infantile refusa...        Tristan Raven   \n",
       "\n",
       "  User_statuses_count user_followers   User_location User_verified fav_count  \\\n",
       "0               32451            520  Cincinnati, OH         False         0   \n",
       "1                4865           5768         Toronto         False         1   \n",
       "2              191014            767                         False         0   \n",
       "3               58537            109         Nowhere         False         0   \n",
       "4               14014             97                         False         0   \n",
       "\n",
       "  rt_count           tweet_date  \\\n",
       "0        3  2020-11-19 16:57:38   \n",
       "1        0  2020-11-19 16:50:44   \n",
       "2        3  2020-11-19 16:40:28   \n",
       "3       60  2020-11-19 16:33:29   \n",
       "4        1  2020-11-19 16:32:45   \n",
       "\n",
       "                                         clean_tweet Sentiment  \n",
       "0  RT Ninja Since Donald Trump s decisive loss in...   Neutral  \n",
       "1  RT Donald Trump s infantile refusal to accept ...  Negative  \n",
       "2  RT Donald Trump has increasingly receded from ...  Negative  \n",
       "3  RT No one stole the election from Donald Trump...   Neutral  \n",
       "4  Trump stewing over election loss silent as vir...   Neutral  "
      ]
     },
     "execution_count": 65,
     "metadata": {},
     "output_type": "execute_result"
    }
   ],
   "source": [
    "df.head()"
   ]
  },
  {
   "cell_type": "code",
   "execution_count": null,
   "metadata": {},
   "outputs": [],
   "source": []
  },
  {
   "cell_type": "code",
   "execution_count": null,
   "metadata": {},
   "outputs": [],
   "source": []
  },
  {
   "cell_type": "code",
   "execution_count": 66,
   "metadata": {},
   "outputs": [],
   "source": [
    "from textblob import TextBlob"
   ]
  },
  {
   "cell_type": "code",
   "execution_count": 67,
   "metadata": {},
   "outputs": [],
   "source": [
    "import re\n",
    "def clean_tweet(tweet):\n",
    "    return ' '.join(re.sub('(@[A-Za-z0-9]+)|([^0-9A-Za-z \\t])|(\\w+:\\/\\/\\S+)', ' ', tweet).split())"
   ]
  },
  {
   "cell_type": "code",
   "execution_count": 68,
   "metadata": {},
   "outputs": [],
   "source": [
    "def analyze_sentiment(tweet):\n",
    "    analysis = TextBlob(tweet)\n",
    "    if analysis.sentiment.polarity > 0:\n",
    "        return 'Positive'\n",
    "    elif analysis.sentiment.polarity == 0:\n",
    "        return 'Neutral'\n",
    "    else:\n",
    "        return 'Negative'"
   ]
  },
  {
   "cell_type": "code",
   "execution_count": 69,
   "metadata": {},
   "outputs": [
    {
     "data": {
      "text/html": [
       "<div>\n",
       "<style scoped>\n",
       "    .dataframe tbody tr th:only-of-type {\n",
       "        vertical-align: middle;\n",
       "    }\n",
       "\n",
       "    .dataframe tbody tr th {\n",
       "        vertical-align: top;\n",
       "    }\n",
       "\n",
       "    .dataframe thead th {\n",
       "        text-align: right;\n",
       "    }\n",
       "</style>\n",
       "<table border=\"1\" class=\"dataframe\">\n",
       "  <thead>\n",
       "    <tr style=\"text-align: right;\">\n",
       "      <th></th>\n",
       "      <th>Tweets</th>\n",
       "      <th>User</th>\n",
       "      <th>User_statuses_count</th>\n",
       "      <th>user_followers</th>\n",
       "      <th>User_location</th>\n",
       "      <th>User_verified</th>\n",
       "      <th>fav_count</th>\n",
       "      <th>rt_count</th>\n",
       "      <th>tweet_date</th>\n",
       "      <th>clean_tweet</th>\n",
       "      <th>Sentiment</th>\n",
       "    </tr>\n",
       "  </thead>\n",
       "  <tbody>\n",
       "    <tr>\n",
       "      <th>0</th>\n",
       "      <td>RT @glenn76833403: @FrankAmari2 @realDonaldTru...</td>\n",
       "      <td>Lady Witch</td>\n",
       "      <td>32451</td>\n",
       "      <td>520</td>\n",
       "      <td>Cincinnati, OH</td>\n",
       "      <td>False</td>\n",
       "      <td>0</td>\n",
       "      <td>3</td>\n",
       "      <td>2020-11-19 16:57:38</td>\n",
       "      <td>RT No one stole the election from Donald Trump...</td>\n",
       "      <td>Neutral</td>\n",
       "    </tr>\n",
       "    <tr>\n",
       "      <th>1</th>\n",
       "      <td>Agreed. He's not a four year old and the U.S. ...</td>\n",
       "      <td>Akwasi Owusu-Bempah</td>\n",
       "      <td>4865</td>\n",
       "      <td>5768</td>\n",
       "      <td>Toronto</td>\n",
       "      <td>False</td>\n",
       "      <td>1</td>\n",
       "      <td>0</td>\n",
       "      <td>2020-11-19 16:50:44</td>\n",
       "      <td>Agreed He s not a four year old and the U S is...</td>\n",
       "      <td>Negative</td>\n",
       "    </tr>\n",
       "    <tr>\n",
       "      <th>2</th>\n",
       "      <td>RT @glenn76833403: @FrankAmari2 @realDonaldTru...</td>\n",
       "      <td>Ilanna Phillips</td>\n",
       "      <td>191014</td>\n",
       "      <td>767</td>\n",
       "      <td></td>\n",
       "      <td>False</td>\n",
       "      <td>0</td>\n",
       "      <td>3</td>\n",
       "      <td>2020-11-19 16:40:28</td>\n",
       "      <td>RT No one stole the election from Donald Trump...</td>\n",
       "      <td>Negative</td>\n",
       "    </tr>\n",
       "    <tr>\n",
       "      <th>3</th>\n",
       "      <td>RT @UR_Ninja: Since Donald Trump’s decisive lo...</td>\n",
       "      <td>Fe</td>\n",
       "      <td>58537</td>\n",
       "      <td>109</td>\n",
       "      <td>Nowhere</td>\n",
       "      <td>False</td>\n",
       "      <td>0</td>\n",
       "      <td>60</td>\n",
       "      <td>2020-11-19 16:33:29</td>\n",
       "      <td>RT Ninja Since Donald Trump s decisive loss in...</td>\n",
       "      <td>Neutral</td>\n",
       "    </tr>\n",
       "    <tr>\n",
       "      <th>4</th>\n",
       "      <td>RT @MikeOkuda: Donald Trump’s infantile refusa...</td>\n",
       "      <td>Tristan Raven</td>\n",
       "      <td>14014</td>\n",
       "      <td>97</td>\n",
       "      <td></td>\n",
       "      <td>False</td>\n",
       "      <td>0</td>\n",
       "      <td>1</td>\n",
       "      <td>2020-11-19 16:32:45</td>\n",
       "      <td>RT Donald Trump s infantile refusal to accept ...</td>\n",
       "      <td>Neutral</td>\n",
       "    </tr>\n",
       "  </tbody>\n",
       "</table>\n",
       "</div>"
      ],
      "text/plain": [
       "                                              Tweets                 User  \\\n",
       "0  RT @glenn76833403: @FrankAmari2 @realDonaldTru...           Lady Witch   \n",
       "1  Agreed. He's not a four year old and the U.S. ...  Akwasi Owusu-Bempah   \n",
       "2  RT @glenn76833403: @FrankAmari2 @realDonaldTru...      Ilanna Phillips   \n",
       "3  RT @UR_Ninja: Since Donald Trump’s decisive lo...                   Fe   \n",
       "4  RT @MikeOkuda: Donald Trump’s infantile refusa...        Tristan Raven   \n",
       "\n",
       "  User_statuses_count user_followers   User_location User_verified fav_count  \\\n",
       "0               32451            520  Cincinnati, OH         False         0   \n",
       "1                4865           5768         Toronto         False         1   \n",
       "2              191014            767                         False         0   \n",
       "3               58537            109         Nowhere         False         0   \n",
       "4               14014             97                         False         0   \n",
       "\n",
       "  rt_count           tweet_date  \\\n",
       "0        3  2020-11-19 16:57:38   \n",
       "1        0  2020-11-19 16:50:44   \n",
       "2        3  2020-11-19 16:40:28   \n",
       "3       60  2020-11-19 16:33:29   \n",
       "4        1  2020-11-19 16:32:45   \n",
       "\n",
       "                                         clean_tweet Sentiment  \n",
       "0  RT No one stole the election from Donald Trump...   Neutral  \n",
       "1  Agreed He s not a four year old and the U S is...  Negative  \n",
       "2  RT No one stole the election from Donald Trump...  Negative  \n",
       "3  RT Ninja Since Donald Trump s decisive loss in...   Neutral  \n",
       "4  RT Donald Trump s infantile refusal to accept ...   Neutral  "
      ]
     },
     "execution_count": 69,
     "metadata": {},
     "output_type": "execute_result"
    }
   ],
   "source": [
    "df['clean_tweet'] = df['Tweets'].apply(lambda x : clean_tweet(x))\n",
    "df.head()"
   ]
  },
  {
   "cell_type": "code",
   "execution_count": 70,
   "metadata": {},
   "outputs": [
    {
     "data": {
      "text/html": [
       "<div>\n",
       "<style scoped>\n",
       "    .dataframe tbody tr th:only-of-type {\n",
       "        vertical-align: middle;\n",
       "    }\n",
       "\n",
       "    .dataframe tbody tr th {\n",
       "        vertical-align: top;\n",
       "    }\n",
       "\n",
       "    .dataframe thead th {\n",
       "        text-align: right;\n",
       "    }\n",
       "</style>\n",
       "<table border=\"1\" class=\"dataframe\">\n",
       "  <thead>\n",
       "    <tr style=\"text-align: right;\">\n",
       "      <th></th>\n",
       "      <th>Tweets</th>\n",
       "      <th>User</th>\n",
       "      <th>User_statuses_count</th>\n",
       "      <th>user_followers</th>\n",
       "      <th>User_location</th>\n",
       "      <th>User_verified</th>\n",
       "      <th>fav_count</th>\n",
       "      <th>rt_count</th>\n",
       "      <th>tweet_date</th>\n",
       "      <th>clean_tweet</th>\n",
       "      <th>Sentiment</th>\n",
       "    </tr>\n",
       "  </thead>\n",
       "  <tbody>\n",
       "    <tr>\n",
       "      <th>0</th>\n",
       "      <td>RT @glenn76833403: @FrankAmari2 @realDonaldTru...</td>\n",
       "      <td>Lady Witch</td>\n",
       "      <td>32451</td>\n",
       "      <td>520</td>\n",
       "      <td>Cincinnati, OH</td>\n",
       "      <td>False</td>\n",
       "      <td>0</td>\n",
       "      <td>3</td>\n",
       "      <td>2020-11-19 16:57:38</td>\n",
       "      <td>RT No one stole the election from Donald Trump...</td>\n",
       "      <td>Positive</td>\n",
       "    </tr>\n",
       "    <tr>\n",
       "      <th>1</th>\n",
       "      <td>Agreed. He's not a four year old and the U.S. ...</td>\n",
       "      <td>Akwasi Owusu-Bempah</td>\n",
       "      <td>4865</td>\n",
       "      <td>5768</td>\n",
       "      <td>Toronto</td>\n",
       "      <td>False</td>\n",
       "      <td>1</td>\n",
       "      <td>0</td>\n",
       "      <td>2020-11-19 16:50:44</td>\n",
       "      <td>Agreed He s not a four year old and the U S is...</td>\n",
       "      <td>Positive</td>\n",
       "    </tr>\n",
       "    <tr>\n",
       "      <th>2</th>\n",
       "      <td>RT @glenn76833403: @FrankAmari2 @realDonaldTru...</td>\n",
       "      <td>Ilanna Phillips</td>\n",
       "      <td>191014</td>\n",
       "      <td>767</td>\n",
       "      <td></td>\n",
       "      <td>False</td>\n",
       "      <td>0</td>\n",
       "      <td>3</td>\n",
       "      <td>2020-11-19 16:40:28</td>\n",
       "      <td>RT No one stole the election from Donald Trump...</td>\n",
       "      <td>Positive</td>\n",
       "    </tr>\n",
       "    <tr>\n",
       "      <th>3</th>\n",
       "      <td>RT @UR_Ninja: Since Donald Trump’s decisive lo...</td>\n",
       "      <td>Fe</td>\n",
       "      <td>58537</td>\n",
       "      <td>109</td>\n",
       "      <td>Nowhere</td>\n",
       "      <td>False</td>\n",
       "      <td>0</td>\n",
       "      <td>60</td>\n",
       "      <td>2020-11-19 16:33:29</td>\n",
       "      <td>RT Ninja Since Donald Trump s decisive loss in...</td>\n",
       "      <td>Neutral</td>\n",
       "    </tr>\n",
       "    <tr>\n",
       "      <th>4</th>\n",
       "      <td>RT @MikeOkuda: Donald Trump’s infantile refusa...</td>\n",
       "      <td>Tristan Raven</td>\n",
       "      <td>14014</td>\n",
       "      <td>97</td>\n",
       "      <td></td>\n",
       "      <td>False</td>\n",
       "      <td>0</td>\n",
       "      <td>1</td>\n",
       "      <td>2020-11-19 16:32:45</td>\n",
       "      <td>RT Donald Trump s infantile refusal to accept ...</td>\n",
       "      <td>Negative</td>\n",
       "    </tr>\n",
       "  </tbody>\n",
       "</table>\n",
       "</div>"
      ],
      "text/plain": [
       "                                              Tweets                 User  \\\n",
       "0  RT @glenn76833403: @FrankAmari2 @realDonaldTru...           Lady Witch   \n",
       "1  Agreed. He's not a four year old and the U.S. ...  Akwasi Owusu-Bempah   \n",
       "2  RT @glenn76833403: @FrankAmari2 @realDonaldTru...      Ilanna Phillips   \n",
       "3  RT @UR_Ninja: Since Donald Trump’s decisive lo...                   Fe   \n",
       "4  RT @MikeOkuda: Donald Trump’s infantile refusa...        Tristan Raven   \n",
       "\n",
       "  User_statuses_count user_followers   User_location User_verified fav_count  \\\n",
       "0               32451            520  Cincinnati, OH         False         0   \n",
       "1                4865           5768         Toronto         False         1   \n",
       "2              191014            767                         False         0   \n",
       "3               58537            109         Nowhere         False         0   \n",
       "4               14014             97                         False         0   \n",
       "\n",
       "  rt_count           tweet_date  \\\n",
       "0        3  2020-11-19 16:57:38   \n",
       "1        0  2020-11-19 16:50:44   \n",
       "2        3  2020-11-19 16:40:28   \n",
       "3       60  2020-11-19 16:33:29   \n",
       "4        1  2020-11-19 16:32:45   \n",
       "\n",
       "                                         clean_tweet Sentiment  \n",
       "0  RT No one stole the election from Donald Trump...  Positive  \n",
       "1  Agreed He s not a four year old and the U S is...  Positive  \n",
       "2  RT No one stole the election from Donald Trump...  Positive  \n",
       "3  RT Ninja Since Donald Trump s decisive loss in...   Neutral  \n",
       "4  RT Donald Trump s infantile refusal to accept ...  Negative  "
      ]
     },
     "execution_count": 70,
     "metadata": {},
     "output_type": "execute_result"
    }
   ],
   "source": [
    "df['Sentiment'] = df['clean_tweet'].apply(lambda x : analyze_sentiment(x) )\n",
    "df.head()"
   ]
  },
  {
   "cell_type": "code",
   "execution_count": 71,
   "metadata": {},
   "outputs": [
    {
     "name": "stdout",
     "output_type": "stream",
     "text": [
      "Original tweet:\n",
      " Agreed. He's not a four year old and the U.S. is not a sandbox: Donald Trump’s response to his election loss may be… https://t.co/s0m2sR0DXV\n",
      "\n",
      "Clean tweet:\n",
      " Agreed He s not a four year old and the U S is not a sandbox Donald Trump s response to his election loss may be\n",
      "\n",
      "Sentiment of the tweet:\n",
      " Positive\n"
     ]
    }
   ],
   "source": [
    "n = 1\n",
    "print(\"Original tweet:\\n\",df['Tweets'][n])\n",
    "print()\n",
    "print(\"Clean tweet:\\n\",df['clean_tweet'][n])\n",
    "print()\n",
    "print(\"Sentiment of the tweet:\\n\",df['Sentiment'][n])"
   ]
  },
  {
   "cell_type": "code",
   "execution_count": 72,
   "metadata": {},
   "outputs": [
    {
     "name": "stdout",
     "output_type": "stream",
     "text": [
      "Original tweet:\n",
      " RT @molly_knight: so it appears donald trump's election loss plan is the same as his covid-19 battle plan. just deny it's happening and hop…\n",
      "\n",
      "Clean tweet:\n",
      " RT knight so it appears donald trump s election loss plan is the same as his covid 19 battle plan just deny it s happening and hop\n",
      "\n",
      "Sentiment of the tweet:\n",
      " Neutral\n"
     ]
    }
   ],
   "source": [
    "n = 120\n",
    "print(\"Original tweet:\\n\",df['Tweets'][n])\n",
    "print()\n",
    "print(\"Clean tweet:\\n\",df['clean_tweet'][n])\n",
    "print()\n",
    "print(\"Sentiment of the tweet:\\n\",df['Sentiment'][n])"
   ]
  },
  {
   "cell_type": "code",
   "execution_count": 73,
   "metadata": {},
   "outputs": [
    {
     "data": {
      "text/plain": [
       "777"
      ]
     },
     "execution_count": 73,
     "metadata": {},
     "output_type": "execute_result"
    }
   ],
   "source": [
    "df[df.Sentiment == 'Positive'].shape[0]"
   ]
  },
  {
   "cell_type": "code",
   "execution_count": 74,
   "metadata": {},
   "outputs": [
    {
     "data": {
      "text/plain": [
       "149"
      ]
     },
     "execution_count": 74,
     "metadata": {},
     "output_type": "execute_result"
    }
   ],
   "source": [
    "df[df.Sentiment == 'Neutral'].shape[0]"
   ]
  },
  {
   "cell_type": "code",
   "execution_count": 76,
   "metadata": {},
   "outputs": [
    {
     "data": {
      "text/plain": [
       "74"
      ]
     },
     "execution_count": 76,
     "metadata": {},
     "output_type": "execute_result"
    }
   ],
   "source": [
    "df[df.Sentiment == 'Negative'].shape[0]"
   ]
  }
 ],
 "metadata": {
  "kernelspec": {
   "display_name": "Python 3",
   "language": "python",
   "name": "python3"
  },
  "language_info": {
   "codemirror_mode": {
    "name": "ipython",
    "version": 3
   },
   "file_extension": ".py",
   "mimetype": "text/x-python",
   "name": "python",
   "nbconvert_exporter": "python",
   "pygments_lexer": "ipython3",
   "version": "3.7.6"
  }
 },
 "nbformat": 4,
 "nbformat_minor": 4
}

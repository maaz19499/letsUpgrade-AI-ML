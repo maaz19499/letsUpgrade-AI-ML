{
 "cells": [
  {
   "cell_type": "code",
   "execution_count": 25,
   "metadata": {},
   "outputs": [
    {
     "name": "stdout",
     "output_type": "stream",
     "text": [
      "Enter the real part of c1 =3\n",
      "Enter the imaginary part of c1 =6\n",
      "Enter the real part of c2 =2\n",
      "Enter the imaginary part of c2 =4\n",
      "addition of 2 complex nos is = (5+10j)\n",
      "subtraction of 2 complex nos is = (1+2j)\n",
      "multiplication of 2 complex nos is = (-18+24j)\n",
      "division of 2 complex nos is = (1.5+0j)\n"
     ]
    }
   ],
   "source": [
    "# operations on complex no\n",
    "\n",
    "x = float(input(\"Enter the real part of c1 =\"))\n",
    "y = float(input(\"Enter the imaginary part of c1 =\"))\n",
    "c1 = complex(x,y)\n",
    "\n",
    "a = float(input(\"Enter the real part of c2 =\"))\n",
    "b = float(input(\"Enter the imaginary part of c2 =\"))\n",
    "c2 = complex(a,b)\n",
    "\n",
    "# addition\n",
    "add = c1 + c2\n",
    "print(\"addition of 2 complex nos is =\",add)\n",
    "\n",
    "#subtraction\n",
    "sub = c1 - c2\n",
    "print(\"subtraction of 2 complex nos is =\",sub)\n",
    "\n",
    "#multiplication\n",
    "mul = c1 * c2\n",
    "print(\"multiplication of 2 complex nos is =\",mul)\n",
    "\n",
    "#division\n",
    "div = c1 / c2\n",
    "print(\"division of 2 complex nos is =\",div)\n",
    "\n",
    "#Floor and modulus operators (// and % respectively) are not allowed to be used on complex number in Python 3\n"
   ]
  },
  {
   "cell_type": "markdown",
   "metadata": {},
   "source": [
    "# range() function\n",
    "\n",
    "range() function returns a list or sequence of numbers. like\n",
    " ,range(4) = 0,1,2,3,4\n",
    ".range() function has 3 parameters namely start value, stop value and step value\n",
    ".if the start value parameter is not provided it assumes the starting value to be zero(0)\n"
   ]
  },
  {
   "cell_type": "code",
   "execution_count": 5,
   "metadata": {},
   "outputs": [
    {
     "name": "stdout",
     "output_type": "stream",
     "text": [
      "1\n",
      "1000\n",
      "1999\n",
      "2998\n",
      "3997\n",
      "4996\n",
      "5995\n",
      "6994\n",
      "7993\n",
      "8992\n",
      "9991\n"
     ]
    }
   ],
   "source": [
    "for i in range (1,10000,999):\n",
    "    print(i)"
   ]
  },
  {
   "cell_type": "code",
   "execution_count": 13,
   "metadata": {},
   "outputs": [
    {
     "name": "stdout",
     "output_type": "stream",
     "text": [
      "Enter the first no =40\n",
      "Enter the second no =20\n",
      "division of 2 nos is 2.0\n"
     ]
    }
   ],
   "source": [
    "# 3rd question\n",
    "x = float(input(\"Enter the first no =\"))\n",
    "y = float(input(\"Enter the second no =\"))\n",
    "\n",
    "if x-y>25:\n",
    "    print (\"multiplication of 2 nos is\",x*y)\n",
    "else:\n",
    "    print (\"division of 2 nos is\",x/y)"
   ]
  },
  {
   "cell_type": "code",
   "execution_count": 19,
   "metadata": {},
   "outputs": [
    {
     "name": "stdout",
     "output_type": "stream",
     "text": [
      "square of 2 minus 2 is = 2\n",
      "square of 4 minus 2 is = 14\n",
      "square of 6 minus 2 is = 34\n",
      "square of 8 minus 2 is = 62\n",
      "square of 10 minus 2 is = 98\n"
     ]
    }
   ],
   "source": [
    "# 4th question\n",
    "lst = [1,2,3,4,5,6,7,8,9,10]\n",
    "for i in lst:\n",
    "    if i%2==0:\n",
    "        print(\"square of\",i ,\"minus 2 is =\",(i**2)-2)"
   ]
  },
  {
   "cell_type": "code",
   "execution_count": 26,
   "metadata": {},
   "outputs": [
    {
     "name": "stdout",
     "output_type": "stream",
     "text": [
      "division of  20 by 2 is greater than 7 \n",
      "division of  30 by 2 is greater than 7 \n",
      "division of  40 by 2 is greater than 7 \n",
      "division of  50 by 2 is greater than 7 \n",
      "division of  60 by 2 is greater than 7 \n",
      "division of  70 by 2 is greater than 7 \n",
      "division of  80 by 2 is greater than 7 \n",
      "division of  90 by 2 is greater than 7 \n",
      "division of  100 by 2 is greater than 7 \n"
     ]
    }
   ],
   "source": [
    "# 5th question\n",
    "lst = [10,20,30,40,50,60,70,80,90,100]\n",
    "for i in lst:\n",
    "    if i/2 > 7:\n",
    "        print(\"division of \",i,\"by 2 is greater than 7 \")"
   ]
  },
  {
   "cell_type": "code",
   "execution_count": null,
   "metadata": {},
   "outputs": [],
   "source": []
  }
 ],
 "metadata": {
  "kernelspec": {
   "display_name": "Python 3",
   "language": "python",
   "name": "python3"
  },
  "language_info": {
   "codemirror_mode": {
    "name": "ipython",
    "version": 3
   },
   "file_extension": ".py",
   "mimetype": "text/x-python",
   "name": "python",
   "nbconvert_exporter": "python",
   "pygments_lexer": "ipython3",
   "version": "3.7.6"
  }
 },
 "nbformat": 4,
 "nbformat_minor": 4
}
